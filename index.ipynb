{
 "cells": [
  {
   "cell_type": "code",
   "execution_count": null,
   "metadata": {},
   "outputs": [],
   "source": [
    "#| hide\n",
    "from receitaws.consultas import Request"
   ]
  },
  {
   "cell_type": "markdown",
   "metadata": {},
   "source": [
    "# Receita-WS\n",
    "\n",
    "> Este repositório possui funções auxiliares para fazer requisições REST à API para acesso aos dados atualizados da Receita Federal relativos a pessoas físicas e jurídicas. Para tal, ele acessa o web service Infoconv, disponibilizado pela Receita. Isso é possível devido a convênio firmado com a Anatel."
   ]
  },
  {
   "cell_type": "markdown",
   "metadata": {},
   "source": [
    "## Instalação"
   ]
  },
  {
   "cell_type": "markdown",
   "metadata": {},
   "source": [
    "```sh\n",
    "pip install receitaws\n",
    "```"
   ]
  },
  {
   "cell_type": "markdown",
   "metadata": {},
   "source": [
    "## Como utilizar"
   ]
  },
  {
   "cell_type": "markdown",
   "metadata": {},
   "source": []
  },
  {
   "cell_type": "code",
   "execution_count": null,
   "metadata": {},
   "outputs": [],
   "source": []
  }
 ],
 "metadata": {
  "kernelspec": {
   "display_name": "Python 3.10.6 ('ws')",
   "language": "python",
   "name": "python3"
  },
  "language_info": {
   "name": "python",
   "version": "3.10.6"
  },
  "vscode": {
   "interpreter": {
    "hash": "5885d5269c059a247b7a692609facce1cde47f9412eb81f3343f4bedcb1040ab"
   }
  }
 },
 "nbformat": 4,
 "nbformat_minor": 4
}
