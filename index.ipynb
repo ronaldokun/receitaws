{
 "cells": [
  {
   "cell_type": "code",
   "execution_count": null,
   "metadata": {},
   "outputs": [],
   "source": [
    "#|hide\n",
    "import pandas as pd\n",
    "from nbdev.showdoc import show_doc"
   ]
  },
  {
   "cell_type": "markdown",
   "metadata": {},
   "source": [
    "# Receita-WS\n",
    "\n",
    "> Este repositório possui funções auxiliares para fazer requisições REST à API para acesso aos dados atualizados da Receita Federal relativos a pessoas físicas e jurídicas. "
   ]
  },
  {
   "cell_type": "markdown",
   "metadata": {},
   "source": [
    "Para tal, ele acessa o serviço web [Receita WS](https://anatel365.sharepoint.com/sites/WikiAnatel/SitePages/Web-Service--ReceitaWS-.aspx?OR=Teams-HL&CT=1660241010872&clickparams=eyJBcHBOYW1lIjoiVGVhbXMtRGVza3RvcCIsIkFwcFZlcnNpb24iOiIyNy8yMjA3MDMwMDgxNSIsIkhhc0ZlZGVyYXRlZFVzZXIiOmZhbHNlfQ%3D%3D) desenvolvido na Anatel. Este por sua vez é um encapsulamento, com cache em banco, do Serviço Web [Infoconv](https://acesso.infoconv.receita.fazenda.gov.br/docInfoconv/), disponibilizado pela Serpro/Receita Federal, por meio de convênio firmado com a Anatel."
   ]
  },
  {
   "cell_type": "markdown",
   "metadata": {},
   "source": [
    "## Instalação"
   ]
  },
  {
   "cell_type": "markdown",
   "metadata": {},
   "source": [
    "### python"
   ]
  },
  {
   "cell_type": "markdown",
   "metadata": {},
   "source": [
    "Caso não tenha o python instalado, baixe a versão para a sua plataforma neste [link](https://www.python.org/downloads/) e siga as instruções.\n"
   ]
  },
  {
   "cell_type": "markdown",
   "metadata": {},
   "source": [
    "❗ Alternativamente, para uma plataforma de desenvolvimento mais versátil recomendamos que seja instalado o [miniconda](https://docs.conda.io/en/latest/miniconda.html), que é uma versão mínima do Anaconda."
   ]
  },
  {
   "cell_type": "markdown",
   "metadata": {},
   "source": [
    "⚡ Para uma versão otimizada do _miniconda_, com excelentes _defaults_, recomendamos ainda que seja instalado o [miniforge](https://github.com/conda-forge/miniforge/releases),  "
   ]
  },
  {
   "cell_type": "markdown",
   "metadata": {},
   "source": [
    "### Ambiente Virtual"
   ]
  },
  {
   "cell_type": "markdown",
   "metadata": {},
   "source": [
    "Primeiramente é recomendado a criação de ambiente virtual para instalar o módulo, assim a versão python deste e suas dependências não afetam a instalação do python padrão:"
   ]
  },
  {
   "cell_type": "markdown",
   "metadata": {},
   "source": [
    "__Modo 1 - Utilizando o módulo venv (disponível em qualquer instalação padrão do python3):__\n",
    "```bash\n",
    "python -m venv <pasta>\n",
    "```   \n",
    "Desse modo será criado o ambiente virtual na `<pasta>`"
   ]
  },
  {
   "cell_type": "markdown",
   "metadata": {},
   "source": [
    "\n",
    "__Para ativar o ambiente virtual__:\n",
    "\n",
    "__Windows__\n",
    "\n",
    "Utilizando o Prompt de Comando: `cmd.exe`\n",
    "\n",
    "```\n",
    "<pasta>\\Scripts\\activate.bat\n",
    "```\n",
    "Utilizando o `PowerShell`:\n",
    "\n",
    "```\n",
    "<pasta>\\Scripts\\Activate.ps1\n",
    "```\n",
    "\n",
    "__Linux e MacOS__\n",
    "\n",
    "```\n",
    "source <pasta>/bin/activate\n",
    "```"
   ]
  },
  {
   "cell_type": "markdown",
   "metadata": {},
   "source": [
    "__Modo 2 (Recomendado) - Utilizando o conda (disponível em qualquer uma das instalações: `Anaconda | Miniconda | Miniforge`):__\n",
    "\n",
    "```\n",
    "conda create -n <nome> python=3.10 -y\n",
    "```\n",
    "Desse modo será criado um ambiente virtual com o nome `<nome>` criado na pasta interna do conda."
   ]
  },
  {
   "cell_type": "markdown",
   "metadata": {},
   "source": [
    "__Para ativar o ambiente virtual `conda`:__\n",
    "```bash\n",
    "conda activate <nome>\n",
    "```"
   ]
  },
  {
   "cell_type": "markdown",
   "metadata": {},
   "source": [
    "### Instalação do módulo `receitaws`"
   ]
  },
  {
   "cell_type": "markdown",
   "metadata": {},
   "source": [
    "Com o ambiente virtual criado e ativado, em qualquer um dos modos mostrados no parágrafo anterior, basta efetuar o comando:\n",
    "```\n",
    "python -m pip install git+https://git.anatel.gov.br/rsilva/receitaws.git\n",
    "```"
   ]
  },
  {
   "cell_type": "markdown",
   "metadata": {},
   "source": [
    "> ☝ Como este é um serviço de uso exclusivo na rede interna da Anatel e por logins autorizados, a instalação é feita diretamente pelo repositório: "
   ]
  },
  {
   "cell_type": "markdown",
   "metadata": {},
   "source": [
    "## Como utilizar\n",
    "A biblioteca `nbdev` possui somente 1 módulo `consultas`, cuja API principal é a função `requisitar_em_lote`:"
   ]
  },
  {
   "cell_type": "markdown",
   "metadata": {},
   "source": [
    "### Script em linha de comando"
   ]
  },
  {
   "cell_type": "markdown",
   "metadata": {},
   "source": [
    "A API principal `requisitar_em _lote` mostrada acima pode ser executada programaticamente em linha de comando:\n",
    "```\n",
    "python -m receitaws [OPTIONS] FILENAME CPF_USUARIO\n",
    "```"
   ]
  },
  {
   "cell_type": "markdown",
   "metadata": {},
   "source": [
    "<img src=\"cli.png\" alt=\"Requisição em Lote na Linha de Comando\" />"
   ]
  },
  {
   "cell_type": "markdown",
   "metadata": {},
   "source": [
    "### Uso em outros módulos python"
   ]
  },
  {
   "cell_type": "code",
   "execution_count": null,
   "metadata": {},
   "outputs": [],
   "source": [
    "from receitaws.consultas import requisitar_em_lote"
   ]
  },
  {
   "cell_type": "code",
   "execution_count": null,
   "metadata": {},
   "outputs": [
    {
     "data": {
      "text/markdown": [
       "---\n",
       "\n",
       "### requisitar_em_lote\n",
       "\n",
       ">      requisitar_em_lote (filename:str, cpf_usuario:str, ambiente:str='ds',\n",
       ">                          origem:str=None, cache:int=36, saida:str=None)\n",
       "\n",
       "Lê o arquivo `filename` com um CPF | CPNJ por linha. Faz a requisição no `ambiente` do receita-ws e salva os resultados em `saida`\n",
       "\n",
       "|    | **Type** | **Default** | **Details** |\n",
       "| -- | -------- | ----------- | ----------- |\n",
       "| filename | str |  | Arquivo texto de entrada: 1 CPF \\| CNPJ por linha |\n",
       "| cpf_usuario | str |  | CPF do usuário requisitante |\n",
       "| ambiente | str | ds | Ambiente onde realizar a requisição: ds \\| hm \\| su \\| pd |\n",
       "| origem | str | None | Texto com identificação da requisição: e.g. 'Teste' |\n",
       "| cache | int | 36 | Tempo de expiração do cache em meses |\n",
       "| saida | str | None | Arquivo de saída da requisição |\n",
       "| **Returns** | **None** |  |  |"
      ],
      "text/plain": [
       "---\n",
       "\n",
       "### requisitar_em_lote\n",
       "\n",
       ">      requisitar_em_lote (filename:str, cpf_usuario:str, ambiente:str='ds',\n",
       ">                          origem:str=None, cache:int=36, saida:str=None)\n",
       "\n",
       "Lê o arquivo `filename` com um CPF | CPNJ por linha. Faz a requisição no `ambiente` do receita-ws e salva os resultados em `saida`\n",
       "\n",
       "|    | **Type** | **Default** | **Details** |\n",
       "| -- | -------- | ----------- | ----------- |\n",
       "| filename | str |  | Arquivo texto de entrada: 1 CPF \\| CNPJ por linha |\n",
       "| cpf_usuario | str |  | CPF do usuário requisitante |\n",
       "| ambiente | str | ds | Ambiente onde realizar a requisição: ds \\| hm \\| su \\| pd |\n",
       "| origem | str | None | Texto com identificação da requisição: e.g. 'Teste' |\n",
       "| cache | int | 36 | Tempo de expiração do cache em meses |\n",
       "| saida | str | None | Arquivo de saída da requisição |\n",
       "| **Returns** | **None** |  |  |"
      ]
     },
     "execution_count": null,
     "metadata": {},
     "output_type": "execute_result"
    }
   ],
   "source": [
    "#|echo: false\n",
    "show_doc(requisitar_em_lote)"
   ]
  },
  {
   "cell_type": "markdown",
   "metadata": {},
   "source": [
    "> ⚠️ Como arquivo de entrada é esperado um arquivo _texto_, e.g. `csv | txt | tsv etc...` com 1 registro por linha!"
   ]
  },
  {
   "cell_type": "code",
   "execution_count": null,
   "metadata": {},
   "outputs": [],
   "source": [
    "#|eval: false\n",
    "cpf_usuario = input('Digite seu CPF para Identificação: ')\n",
    "requisitar_em_lote(filename=r'D:\\Code\\receitaws\\dados\\cpf.csv', \n",
    "                     cpf_usuario=cpf_usuario, \n",
    "                     ambiente='ds',\n",
    "                     origem='Teste DS',\n",
    "                     cache=3,\n",
    "                     saida=r'D:\\Code\\receitaws\\dados\\resultados_cpf.csv')"
   ]
  },
  {
   "cell_type": "markdown",
   "metadata": {},
   "source": [
    "__Arquivo de Saída__\n",
    "\n",
    "O formato do arquivo de saída é automaticamente identificado pela extensão do argumento `saida`, os valores possíveis são `csv | xlsx | html | md`, para salvamento em formato tabular, ou no formato `json`. Caso seja fornecido uma extensão não suportada ou _não_ seja fornecido um nome de arquivo de saída, será salvo um  `csv` na pasta onde é feita a requisição.\n"
   ]
  },
  {
   "cell_type": "markdown",
   "metadata": {},
   "source": [
    "> 💯 Todos os dados retornados pelo web service são salvos!"
   ]
  },
  {
   "cell_type": "code",
   "execution_count": null,
   "metadata": {},
   "outputs": [
    {
     "data": {
      "text/html": [
       "<div>\n",
       "<style scoped>\n",
       "    .dataframe tbody tr th:only-of-type {\n",
       "        vertical-align: middle;\n",
       "    }\n",
       "\n",
       "    .dataframe tbody tr th {\n",
       "        vertical-align: top;\n",
       "    }\n",
       "\n",
       "    .dataframe thead th {\n",
       "        text-align: right;\n",
       "    }\n",
       "</style>\n",
       "<table border=\"1\" class=\"dataframe\">\n",
       "  <thead>\n",
       "    <tr style=\"text-align: right;\">\n",
       "      <th></th>\n",
       "      <th>nome</th>\n",
       "      <th>situacaoCadastral.codigo</th>\n",
       "      <th>situacaoCadastral.valor</th>\n",
       "      <th>paisResidencia.residenteExterior</th>\n",
       "      <th>paisResidencia.codigoPais</th>\n",
       "      <th>nomeMae</th>\n",
       "      <th>dataNascimento</th>\n",
       "      <th>sexo.codigo</th>\n",
       "      <th>sexo.valor</th>\n",
       "      <th>ocupacao.naturezaOcupacaoCodigo</th>\n",
       "      <th>...</th>\n",
       "      <th>telefone.ddd</th>\n",
       "      <th>telefone.numero</th>\n",
       "      <th>unidadeAdministrativaCodigo</th>\n",
       "      <th>anoObito</th>\n",
       "      <th>estrangeiro</th>\n",
       "      <th>tituloEleitor</th>\n",
       "      <th>dataAtualizacao</th>\n",
       "      <th>dataRegistroAnatel</th>\n",
       "      <th>resultado</th>\n",
       "      <th>erro</th>\n",
       "    </tr>\n",
       "  </thead>\n",
       "  <tbody>\n",
       "    <tr>\n",
       "      <th>0</th>\n",
       "      <td>Tuwpoxtzyzzruazdjdsqmaewylowhy</td>\n",
       "      <td>2</td>\n",
       "      <td>Suspensa</td>\n",
       "      <td>True</td>\n",
       "      <td>0</td>\n",
       "      <td>Sjflu Ifgemqkhdjvpgcjewylowhy</td>\n",
       "      <td>1937-10-25</td>\n",
       "      <td>1</td>\n",
       "      <td>Masculino</td>\n",
       "      <td>36</td>\n",
       "      <td>...</td>\n",
       "      <td>25</td>\n",
       "      <td>31297214</td>\n",
       "      <td>1008514</td>\n",
       "      <td>0</td>\n",
       "      <td>False</td>\n",
       "      <td>0</td>\n",
       "      <td>1962-02-17</td>\n",
       "      <td>2022-08-16</td>\n",
       "      <td>CPF encontrado</td>\n",
       "      <td>NaN</td>\n",
       "    </tr>\n",
       "    <tr>\n",
       "      <th>1</th>\n",
       "      <td>Tow Dh Vrmadfgixfxaxqupjkfp</td>\n",
       "      <td>8</td>\n",
       "      <td>Nula</td>\n",
       "      <td>True</td>\n",
       "      <td>0</td>\n",
       "      <td>Bvgoxicrewhewdrt</td>\n",
       "      <td>1917-06-28</td>\n",
       "      <td>2</td>\n",
       "      <td>Feminino</td>\n",
       "      <td>5</td>\n",
       "      <td>...</td>\n",
       "      <td>25</td>\n",
       "      <td>97620714</td>\n",
       "      <td>7431014</td>\n",
       "      <td>0</td>\n",
       "      <td>False</td>\n",
       "      <td>0</td>\n",
       "      <td>1964-12-23</td>\n",
       "      <td>2022-08-16</td>\n",
       "      <td>CPF encontrado</td>\n",
       "      <td>NaN</td>\n",
       "    </tr>\n",
       "    <tr>\n",
       "      <th>2</th>\n",
       "      <td>Tuwpoxtzyzzruazdjdsqmaewylowhy</td>\n",
       "      <td>2</td>\n",
       "      <td>Suspensa</td>\n",
       "      <td>True</td>\n",
       "      <td>0</td>\n",
       "      <td>Sjflu Ifgemqkhdjvpgcjewylowhy</td>\n",
       "      <td>1937-10-25</td>\n",
       "      <td>1</td>\n",
       "      <td>Masculino</td>\n",
       "      <td>36</td>\n",
       "      <td>...</td>\n",
       "      <td>25</td>\n",
       "      <td>31297214</td>\n",
       "      <td>1008514</td>\n",
       "      <td>0</td>\n",
       "      <td>False</td>\n",
       "      <td>0</td>\n",
       "      <td>1962-02-17</td>\n",
       "      <td>2022-08-16</td>\n",
       "      <td>CPF encontrado</td>\n",
       "      <td>NaN</td>\n",
       "    </tr>\n",
       "    <tr>\n",
       "      <th>3</th>\n",
       "      <td>Tow Dh Vrmadfgixfxaxqupjkfp</td>\n",
       "      <td>8</td>\n",
       "      <td>Nula</td>\n",
       "      <td>True</td>\n",
       "      <td>0</td>\n",
       "      <td>Bvgoxicrewhewdrt</td>\n",
       "      <td>1917-06-28</td>\n",
       "      <td>2</td>\n",
       "      <td>Feminino</td>\n",
       "      <td>5</td>\n",
       "      <td>...</td>\n",
       "      <td>25</td>\n",
       "      <td>97620714</td>\n",
       "      <td>7431014</td>\n",
       "      <td>0</td>\n",
       "      <td>False</td>\n",
       "      <td>0</td>\n",
       "      <td>1964-12-23</td>\n",
       "      <td>2022-08-16</td>\n",
       "      <td>CPF encontrado</td>\n",
       "      <td>NaN</td>\n",
       "    </tr>\n",
       "    <tr>\n",
       "      <th>4</th>\n",
       "      <td>Tuwpoxtzyzzruazdjdsqmaewylowhy</td>\n",
       "      <td>2</td>\n",
       "      <td>Suspensa</td>\n",
       "      <td>True</td>\n",
       "      <td>0</td>\n",
       "      <td>Sjflu Ifgemqkhdjvpgcjewylowhy</td>\n",
       "      <td>1937-10-25</td>\n",
       "      <td>1</td>\n",
       "      <td>Masculino</td>\n",
       "      <td>36</td>\n",
       "      <td>...</td>\n",
       "      <td>25</td>\n",
       "      <td>31297214</td>\n",
       "      <td>1008514</td>\n",
       "      <td>0</td>\n",
       "      <td>False</td>\n",
       "      <td>0</td>\n",
       "      <td>1962-02-17</td>\n",
       "      <td>2022-08-16</td>\n",
       "      <td>CPF encontrado</td>\n",
       "      <td>NaN</td>\n",
       "    </tr>\n",
       "    <tr>\n",
       "      <th>5</th>\n",
       "      <td>Tow Dh Vrmadfgixfxaxqupjkfp</td>\n",
       "      <td>8</td>\n",
       "      <td>Nula</td>\n",
       "      <td>True</td>\n",
       "      <td>0</td>\n",
       "      <td>Bvgoxicrewhewdrt</td>\n",
       "      <td>1917-06-28</td>\n",
       "      <td>2</td>\n",
       "      <td>Feminino</td>\n",
       "      <td>5</td>\n",
       "      <td>...</td>\n",
       "      <td>25</td>\n",
       "      <td>97620714</td>\n",
       "      <td>7431014</td>\n",
       "      <td>0</td>\n",
       "      <td>False</td>\n",
       "      <td>0</td>\n",
       "      <td>1964-12-23</td>\n",
       "      <td>2022-08-16</td>\n",
       "      <td>CPF encontrado</td>\n",
       "      <td>NaN</td>\n",
       "    </tr>\n",
       "    <tr>\n",
       "      <th>6</th>\n",
       "      <td>Tuwpoxtzyzzruazdjdsqmaewylowhy</td>\n",
       "      <td>2</td>\n",
       "      <td>Suspensa</td>\n",
       "      <td>True</td>\n",
       "      <td>0</td>\n",
       "      <td>Sjflu Ifgemqkhdjvpgcjewylowhy</td>\n",
       "      <td>1937-10-25</td>\n",
       "      <td>1</td>\n",
       "      <td>Masculino</td>\n",
       "      <td>36</td>\n",
       "      <td>...</td>\n",
       "      <td>25</td>\n",
       "      <td>31297214</td>\n",
       "      <td>1008514</td>\n",
       "      <td>0</td>\n",
       "      <td>False</td>\n",
       "      <td>0</td>\n",
       "      <td>1962-02-17</td>\n",
       "      <td>2022-08-16</td>\n",
       "      <td>CPF encontrado</td>\n",
       "      <td>NaN</td>\n",
       "    </tr>\n",
       "    <tr>\n",
       "      <th>7</th>\n",
       "      <td>Tow Dh Vrmadfgixfxaxqupjkfp</td>\n",
       "      <td>8</td>\n",
       "      <td>Nula</td>\n",
       "      <td>True</td>\n",
       "      <td>0</td>\n",
       "      <td>Bvgoxicrewhewdrt</td>\n",
       "      <td>1917-06-28</td>\n",
       "      <td>2</td>\n",
       "      <td>Feminino</td>\n",
       "      <td>5</td>\n",
       "      <td>...</td>\n",
       "      <td>25</td>\n",
       "      <td>97620714</td>\n",
       "      <td>7431014</td>\n",
       "      <td>0</td>\n",
       "      <td>False</td>\n",
       "      <td>0</td>\n",
       "      <td>1964-12-23</td>\n",
       "      <td>2022-08-16</td>\n",
       "      <td>CPF encontrado</td>\n",
       "      <td>NaN</td>\n",
       "    </tr>\n",
       "    <tr>\n",
       "      <th>8</th>\n",
       "      <td>Tuwpoxtzyzzruazdjdsqmaewylowhy</td>\n",
       "      <td>2</td>\n",
       "      <td>Suspensa</td>\n",
       "      <td>True</td>\n",
       "      <td>0</td>\n",
       "      <td>Sjflu Ifgemqkhdjvpgcjewylowhy</td>\n",
       "      <td>1937-10-25</td>\n",
       "      <td>1</td>\n",
       "      <td>Masculino</td>\n",
       "      <td>36</td>\n",
       "      <td>...</td>\n",
       "      <td>25</td>\n",
       "      <td>31297214</td>\n",
       "      <td>1008514</td>\n",
       "      <td>0</td>\n",
       "      <td>False</td>\n",
       "      <td>0</td>\n",
       "      <td>1962-02-17</td>\n",
       "      <td>2022-08-16</td>\n",
       "      <td>CPF encontrado</td>\n",
       "      <td>NaN</td>\n",
       "    </tr>\n",
       "    <tr>\n",
       "      <th>9</th>\n",
       "      <td>Tow Dh Vrmadfgixfxaxqupjkfp</td>\n",
       "      <td>8</td>\n",
       "      <td>Nula</td>\n",
       "      <td>True</td>\n",
       "      <td>0</td>\n",
       "      <td>Bvgoxicrewhewdrt</td>\n",
       "      <td>1917-06-28</td>\n",
       "      <td>2</td>\n",
       "      <td>Feminino</td>\n",
       "      <td>5</td>\n",
       "      <td>...</td>\n",
       "      <td>25</td>\n",
       "      <td>97620714</td>\n",
       "      <td>7431014</td>\n",
       "      <td>0</td>\n",
       "      <td>False</td>\n",
       "      <td>0</td>\n",
       "      <td>1964-12-23</td>\n",
       "      <td>2022-08-16</td>\n",
       "      <td>CPF encontrado</td>\n",
       "      <td>NaN</td>\n",
       "    </tr>\n",
       "  </tbody>\n",
       "</table>\n",
       "<p>10 rows × 30 columns</p>\n",
       "</div>"
      ],
      "text/plain": [
       "                             nome  situacaoCadastral.codigo  \\\n",
       "0  Tuwpoxtzyzzruazdjdsqmaewylowhy                         2   \n",
       "1     Tow Dh Vrmadfgixfxaxqupjkfp                         8   \n",
       "2  Tuwpoxtzyzzruazdjdsqmaewylowhy                         2   \n",
       "3     Tow Dh Vrmadfgixfxaxqupjkfp                         8   \n",
       "4  Tuwpoxtzyzzruazdjdsqmaewylowhy                         2   \n",
       "5     Tow Dh Vrmadfgixfxaxqupjkfp                         8   \n",
       "6  Tuwpoxtzyzzruazdjdsqmaewylowhy                         2   \n",
       "7     Tow Dh Vrmadfgixfxaxqupjkfp                         8   \n",
       "8  Tuwpoxtzyzzruazdjdsqmaewylowhy                         2   \n",
       "9     Tow Dh Vrmadfgixfxaxqupjkfp                         8   \n",
       "\n",
       "  situacaoCadastral.valor  paisResidencia.residenteExterior  \\\n",
       "0                Suspensa                              True   \n",
       "1                    Nula                              True   \n",
       "2                Suspensa                              True   \n",
       "3                    Nula                              True   \n",
       "4                Suspensa                              True   \n",
       "5                    Nula                              True   \n",
       "6                Suspensa                              True   \n",
       "7                    Nula                              True   \n",
       "8                Suspensa                              True   \n",
       "9                    Nula                              True   \n",
       "\n",
       "   paisResidencia.codigoPais                        nomeMae dataNascimento  \\\n",
       "0                          0  Sjflu Ifgemqkhdjvpgcjewylowhy     1937-10-25   \n",
       "1                          0               Bvgoxicrewhewdrt     1917-06-28   \n",
       "2                          0  Sjflu Ifgemqkhdjvpgcjewylowhy     1937-10-25   \n",
       "3                          0               Bvgoxicrewhewdrt     1917-06-28   \n",
       "4                          0  Sjflu Ifgemqkhdjvpgcjewylowhy     1937-10-25   \n",
       "5                          0               Bvgoxicrewhewdrt     1917-06-28   \n",
       "6                          0  Sjflu Ifgemqkhdjvpgcjewylowhy     1937-10-25   \n",
       "7                          0               Bvgoxicrewhewdrt     1917-06-28   \n",
       "8                          0  Sjflu Ifgemqkhdjvpgcjewylowhy     1937-10-25   \n",
       "9                          0               Bvgoxicrewhewdrt     1917-06-28   \n",
       "\n",
       "   sexo.codigo sexo.valor  ocupacao.naturezaOcupacaoCodigo  ...  telefone.ddd  \\\n",
       "0            1  Masculino                               36  ...            25   \n",
       "1            2   Feminino                                5  ...            25   \n",
       "2            1  Masculino                               36  ...            25   \n",
       "3            2   Feminino                                5  ...            25   \n",
       "4            1  Masculino                               36  ...            25   \n",
       "5            2   Feminino                                5  ...            25   \n",
       "6            1  Masculino                               36  ...            25   \n",
       "7            2   Feminino                                5  ...            25   \n",
       "8            1  Masculino                               36  ...            25   \n",
       "9            2   Feminino                                5  ...            25   \n",
       "\n",
       "  telefone.numero  unidadeAdministrativaCodigo anoObito  estrangeiro  \\\n",
       "0        31297214                      1008514        0        False   \n",
       "1        97620714                      7431014        0        False   \n",
       "2        31297214                      1008514        0        False   \n",
       "3        97620714                      7431014        0        False   \n",
       "4        31297214                      1008514        0        False   \n",
       "5        97620714                      7431014        0        False   \n",
       "6        31297214                      1008514        0        False   \n",
       "7        97620714                      7431014        0        False   \n",
       "8        31297214                      1008514        0        False   \n",
       "9        97620714                      7431014        0        False   \n",
       "\n",
       "   tituloEleitor dataAtualizacao  dataRegistroAnatel       resultado erro  \n",
       "0              0      1962-02-17          2022-08-16  CPF encontrado  NaN  \n",
       "1              0      1964-12-23          2022-08-16  CPF encontrado  NaN  \n",
       "2              0      1962-02-17          2022-08-16  CPF encontrado  NaN  \n",
       "3              0      1964-12-23          2022-08-16  CPF encontrado  NaN  \n",
       "4              0      1962-02-17          2022-08-16  CPF encontrado  NaN  \n",
       "5              0      1964-12-23          2022-08-16  CPF encontrado  NaN  \n",
       "6              0      1962-02-17          2022-08-16  CPF encontrado  NaN  \n",
       "7              0      1964-12-23          2022-08-16  CPF encontrado  NaN  \n",
       "8              0      1962-02-17          2022-08-16  CPF encontrado  NaN  \n",
       "9              0      1964-12-23          2022-08-16  CPF encontrado  NaN  \n",
       "\n",
       "[10 rows x 30 columns]"
      ]
     },
     "execution_count": null,
     "metadata": {},
     "output_type": "execute_result"
    }
   ],
   "source": [
    "resultados = pd.read_csv(r'D:\\Code\\receitaws\\dados\\resultados_cpf.csv')\n",
    "resultados.iloc[:, 1:] # Ocultar o CPF requisitado"
   ]
  },
  {
   "cell_type": "markdown",
   "metadata": {},
   "source": [
    "__Ambientes__"
   ]
  },
  {
   "cell_type": "markdown",
   "metadata": {},
   "source": [
    "A mesma requisição pode ser feita nos ambientes: \n",
    "* Desenvolvimento: `ds` (padrão)\n",
    "* Homologação: `hm`\n",
    "* Sustentação: `su`\n",
    "* Produção: `pd`"
   ]
  },
  {
   "cell_type": "markdown",
   "metadata": {},
   "source": [
    "__Tipo de Requisição: `CPF` ou `CNPJ`__"
   ]
  },
  {
   "cell_type": "markdown",
   "metadata": {},
   "source": [
    "> 🧠 O tipo de requisição é automaticamente identificado pelo tamanho do identificador no arquivo:\n"
   ]
  },
  {
   "cell_type": "markdown",
   "metadata": {},
   "source": [
    "* 11 👉 `CPF`\n",
    "* 14 👉 `CNPJ`"
   ]
  },
  {
   "cell_type": "markdown",
   "metadata": {},
   "source": [
    "__Utilização do Cache em Banco__\n",
    "\n",
    "O argumento `cache` é o número de meses que devemos considerar antes de fazer a requisição. \n",
    "\n",
    "Caso o intervalo de tempo entre a data da requisição e a data de atualização do registro em banco corporativo for inferior ao `cache`, o registro do banco é retornado em lugar de se fazer a requisição ao Infoconv da receita federal 😎\n",
    "\n",
    "> Isso foi uma solução para evitar requisições, e por conseguinte cobranças desnecessárias, de registros que já estão com atualização recente em banco 🤑  "
   ]
  }
 ],
 "metadata": {
  "kernelspec": {
   "display_name": "Python 3.10.6 ('ws')",
   "language": "python",
   "name": "python3"
  },
  "language_info": {
   "name": "python",
   "version": "3.10.6"
  },
  "vscode": {
   "interpreter": {
    "hash": "5885d5269c059a247b7a692609facce1cde47f9412eb81f3343f4bedcb1040ab"
   }
  }
 },
 "nbformat": 4,
 "nbformat_minor": 4
}
