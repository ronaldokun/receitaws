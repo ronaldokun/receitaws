{
 "cells": [
  {
   "cell_type": "raw",
   "metadata": {},
   "source": [
    "---\n",
    "title: Testes\n",
    "output-file: testes.html\n",
    "description: Módulo de testes unitários\n",
    "---"
   ]
  },
  {
   "cell_type": "code",
   "execution_count": null,
   "metadata": {},
   "outputs": [],
   "source": [
    "#|default_exp testes"
   ]
  },
  {
   "cell_type": "code",
   "execution_count": null,
   "metadata": {},
   "outputs": [],
   "source": [
    "#|export\n",
    "import pytest\n",
    "from validate_docbr import CPF, CNPJ\n",
    "from receitaws.requisicoes import Requisicao\n"
   ]
  },
  {
   "attachments": {},
   "cell_type": "markdown",
   "metadata": {},
   "source": [
    "Validação de Parâmetros"
   ]
  },
  {
   "cell_type": "code",
   "execution_count": null,
   "metadata": {},
   "outputs": [],
   "source": [
    "#|export\n",
    "class TestParametros:\n",
    "    @pytest.fixture\n",
    "    def requisicao(self):\n",
    "        cpf = CPF().generate()\n",
    "        # Instantiate Requisicao class with default parameters for testing\n",
    "        return Requisicao(cpf_usuario=cpf, tipo=\"cpf\", origem=\"Test\", ambiente=\"hm\")\n",
    "\n",
    "    # Test case for valid parameters\n",
    "    def test_valid_parameters(self, requisicao):\n",
    "        assert requisicao.tipo == \"cpf\"\n",
    "        assert requisicao.origem == \"Test\"\n",
    "        assert requisicao.ambiente == \"hm\"\n",
    "\n",
    "    # Test case for valid CPF\n",
    "    def test_valid_cpf(self, requisicao):\n",
    "        assert CPF().validate(requisicao.cpf_usuario)\n",
    "\n",
    "    # Test case for valid tipo\n",
    "    @pytest.mark.parametrize(\"tipo\", [\"cpf\", \"cnpj\"])\n",
    "    def test_valid_tipo(self, tipo):\n",
    "        cpf = CPF().generate()\n",
    "        requisicao = Requisicao(\n",
    "            cpf_usuario=cpf, tipo=tipo, origem=\"Test\", ambiente=\"hm\"\n",
    "        )\n",
    "        assert requisicao.tipo == tipo\n",
    "\n",
    "    # Test case for valid ambiente\n",
    "    @pytest.mark.parametrize(\"ambiente\", [\"ds\", \"hm\", \"pd\"])\n",
    "    def test_valid_ambiente(self, ambiente):\n",
    "        cpf = CPF().generate()\n",
    "        requisicao = Requisicao(\n",
    "            cpf_usuario=cpf, tipo=\"cpf\", origem=\"Test\", ambiente=ambiente\n",
    "        )\n",
    "        assert requisicao.ambiente == ambiente\n",
    "\n",
    "    # Test case for valid origem\n",
    "    def test_valid_origem(self, requisicao):\n",
    "        assert requisicao.origem == \"Test\"\n",
    "\n",
    "    # Test case for invalid tipo\n",
    "    def test_invalid_tipo(self, requisicao):\n",
    "        with pytest.raises(ValueError):\n",
    "            requisicao.tipo = \"invalid_tipo\"\n",
    "\n",
    "    # Test case for invalid ambiente\n",
    "    def test_invalid_ambiente(self, requisicao):\n",
    "        with pytest.raises(ValueError):\n",
    "            requisicao.ambiente = \"invalid_ambiente\"\n",
    "\n",
    "    # Test case for invalid CPF\n",
    "    def test_invalid_cpf(self):\n",
    "        with pytest.raises(ValueError):\n",
    "            Requisicao(\n",
    "                cpf_usuario=\"invalid_cpf\", tipo=\"cpf\", origem=\"Test\", ambiente=\"hm\"\n",
    "            )\n",
    "\n",
    "    # Test case for invalid origem\n",
    "    def test_invalid_origem(self, requisicao):\n",
    "        with pytest.raises(ValueError):\n",
    "            requisicao.origem = \"\""
   ]
  }
 ],
 "metadata": {
  "language_info": {
   "name": "python"
  },
  "orig_nbformat": 4
 },
 "nbformat": 4,
 "nbformat_minor": 2
}
