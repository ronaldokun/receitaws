{
 "cells": [
  {
   "cell_type": "raw",
   "metadata": {},
   "source": [
    "---\n",
    "title: Testes\n",
    "output-file: testes.html\n",
    "description: Módulo de testes unitários\n",
    "---"
   ]
  },
  {
   "cell_type": "code",
   "execution_count": null,
   "metadata": {},
   "outputs": [],
   "source": [
    "#|default_exp testes"
   ]
  },
  {
   "cell_type": "code",
   "execution_count": null,
   "metadata": {},
   "outputs": [],
   "source": [
    "#|export\n",
    "import pytest\n",
    "from validate_docbr import CPF, CNPJ\n",
    "from receitaws.requisicoes import Requisicao\n"
   ]
  },
  {
   "attachments": {},
   "cell_type": "markdown",
   "metadata": {},
   "source": [
    "Validação de Parâmetros"
   ]
  },
  {
   "cell_type": "code",
   "execution_count": null,
   "metadata": {},
   "outputs": [],
   "source": [
    "#|export\n",
    "class TestParametros:\n",
    "    @pytest.fixture\n",
    "    def cpf_usuario(self):\n",
    "        return CPF().generate()\n",
    "\n",
    "    # Test case for valid arguments\n",
    "    @pytest.mark.parametrize(\"tipo\", [\"cpf\", \"cnpj\", \"CPF\", \"CNPJ\", \"Cpf\", \"Cnpj\"])\n",
    "    @pytest.mark.parametrize(\"ambiente\", [\"ds\", \"hm\", \"pd\"])\n",
    "    @pytest.mark.parametrize(\"cache\", [0, 3, 6, 9, 12, \"3\"])\n",
    "    def test_valid_args(self, cpf_usuario, tipo, ambiente, cache):\n",
    "        requisicao = Requisicao(\n",
    "            cpf_usuario=cpf_usuario,\n",
    "            tipo=tipo,\n",
    "            origem=\"Teste\",\n",
    "            ambiente=ambiente,\n",
    "            cache=cache,\n",
    "        )\n",
    "        assert requisicao.tipo == tipo.lower()\n",
    "        if ambiente == \"pd\":\n",
    "            ambiente = \"\"\n",
    "        assert requisicao.ambiente == ambiente\n",
    "        assert requisicao.cache == int(cache)\n",
    "\n",
    "    # Test case for invalid tipo\n",
    "    @pytest.mark.parametrize(\"tipo\", [\"invalid_tipo\", None])\n",
    "    @pytest.mark.parametrize(\"ambiente\", [\"ds\", \"hm\", \"pd\"])\n",
    "    def test_invalid_tipo(self, cpf_usuario, tipo, ambiente):\n",
    "        with pytest.raises(AssertionError):\n",
    "            requisicao = Requisicao(\n",
    "                cpf_usuario, tipo, origem=\"Teste\", ambiente=ambiente\n",
    "            )\n",
    "\n",
    "    # Test case for invalid origem\n",
    "    @pytest.mark.parametrize(\"tipo\", [\"cpf\", \"cnpj\"])\n",
    "    @pytest.mark.parametrize(\"ambiente\", [\"ds\", \"hm\", \"pd\"])\n",
    "    def test_invalid_origem(self, cpf_usuario, tipo, ambiente):\n",
    "        with pytest.raises(ValueError):\n",
    "            Requisicao(cpf_usuario, tipo, origem=\"\", ambiente=ambiente)\n",
    "\n",
    "    # Test case for invalid ambiente\n",
    "    @pytest.mark.parametrize(\"tipo\", [\"cpf\", \"cnpj\"])\n",
    "    def test_invalid_ambiente(self, cpf_usuario, tipo):\n",
    "        with pytest.raises(AssertionError):\n",
    "            Requisicao(cpf_usuario, tipo, \"Teste\", ambiente=\"Ambiente_Inválido\")\n",
    "\n",
    "    # Test case for invalid CPF\n",
    "    @pytest.mark.parametrize(\"cpf\", [9 * str(i) for i in range(10)])\n",
    "    @pytest.mark.parametrize(\"tipo\", [\"cpf\", \"cnpj\"])\n",
    "    @pytest.mark.parametrize(\"ambiente\", [\"ds\", \"hm\", \"pd\"])\n",
    "    def test_invalid_cpf(self, cpf, tipo, ambiente):\n",
    "        with pytest.raises(ValueError):\n",
    "            Requisicao(cpf, tipo=tipo, origem=\"Teste\", ambiente=ambiente)\n",
    "\n",
    "    @pytest.mark.parametrize(\"tipo\", [\"cpf\", \"cnpj\"])\n",
    "    @pytest.mark.parametrize(\"ambiente\", [\"ds\", \"hm\", \"pd\"])\n",
    "    @pytest.mark.parametrize(\"cache\", [\"-1\", -1])\n",
    "    def test_invalid_cache(self, cpf_usuario, tipo, ambiente, cache):\n",
    "        with pytest.raises(AssertionError):\n",
    "            Requisicao(cpf_usuario, tipo, \"Teste\", ambiente, cache)"
   ]
  }
 ],
 "metadata": {},
 "nbformat": 4,
 "nbformat_minor": 2
}
