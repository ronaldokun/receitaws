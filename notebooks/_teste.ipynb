{
 "cells": [
  {
   "cell_type": "code",
   "execution_count": 1,
   "metadata": {},
   "outputs": [
    {
     "name": "stderr",
     "output_type": "stream",
     "text": [
      "d:\\Applications\\Scoop\\apps\\miniconda3\\current\\envs\\receitaws\\lib\\site-packages\\fastprogress\\fastprogress.py:107: UserWarning: Couldn't import ipywidgets properly, progress bar will use console behavior\n",
      "  warn(\"Couldn't import ipywidgets properly, progress bar will use console behavior\")\n"
     ]
    }
   ],
   "source": [
    "from receitaws.consultas import Requisicao"
   ]
  },
  {
   "cell_type": "code",
   "execution_count": 2,
   "metadata": {},
   "outputs": [],
   "source": [
    "cpf_usuario = input('Digite o CPF do solicitante: ')\n",
    "origem = \"Requisicao_Python\"\n",
    "ambiente = 'pd'\n",
    "tipo = 'cnpj'\n",
    "cache = 36"
   ]
  },
  {
   "cell_type": "code",
   "execution_count": 3,
   "metadata": {},
   "outputs": [],
   "source": [
    "req = Requisicao(cpf_usuario, tipo, ambiente, origem, cache)"
   ]
  },
  {
   "cell_type": "code",
   "execution_count": 4,
   "metadata": {},
   "outputs": [],
   "source": [
    "perdigao = '01838723000127'\n",
    "sadia = '26176436000120'"
   ]
  },
  {
   "cell_type": "code",
   "execution_count": 4,
   "metadata": {},
   "outputs": [
    {
     "data": {
      "text/plain": [
       "{'cnpj': '00086843000152',\n",
       " 'matriz': True,\n",
       " 'nomeEmpresarial': 'Radio Tocantins Ltda',\n",
       " 'nomeFantasia': 'Radio Tocantins',\n",
       " 'situacaoCadastral.codigo': '02',\n",
       " 'situacaoCadastral.valor': 'Ativa',\n",
       " 'situacaoCadastral.dataAlteracao': '2005-11-03T00:00:00',\n",
       " 'naturezaJuridica.codigo': '2062',\n",
       " 'naturezaJuridica.descricao': 'SOCIEDADE EMPRESARIA LIMITADA',\n",
       " 'dataAbertura': '1982-06-09',\n",
       " 'cnaePrincipal': '6010100',\n",
       " 'cnaeSecundario': '5920100',\n",
       " 'endereco.logradouro': 'Rua Uruguai',\n",
       " 'endereco.numero': '1166',\n",
       " 'endereco.cep': '77900000',\n",
       " 'endereco.bairro': 'Vila Matilde',\n",
       " 'endereco.codigoMunicipio': 1721208,\n",
       " 'endereco.nomeMunicipio': 'Tocantinopolis',\n",
       " 'endereco.uf': 'TO',\n",
       " 'telefone1.ddd': '63',\n",
       " 'telefone1.numero': '33450195',\n",
       " 'email': 'escritoriodeapoio@terra.com.br',\n",
       " 'responsavel.cpf': '22103830130',\n",
       " 'responsavel.nome': 'Walnibia Aparecida Nascimento Lobo',\n",
       " 'capitalSocial': '100000',\n",
       " 'porte.codigo': 1,\n",
       " 'porte.valor': 'Microempresa',\n",
       " 'opcaoSimples.opcaoSimples': True,\n",
       " 'opcaoSimples.dataOpcao': '2015-01-01',\n",
       " 'contador.tipoCrcContadorPj': {'codigo': 'O', 'valor': 'Originario'},\n",
       " 'contador.classificacaoCrcContadorPj': {'codigo': 2,\n",
       "  'valor': 'Escritorio sociedade'},\n",
       " 'contador.numeroCrcContadorPj': '000003',\n",
       " 'contador.ufCrcContadorPj': 'TO',\n",
       " 'contador.cnpjContador': '01810563000108',\n",
       " 'contador.tipoCrcContadorPf': {'codigo': 'O', 'valor': 'Originario'},\n",
       " 'contador.classficacaoCrcContadorPf': {'codigo': 1, 'valor': 'Profissional'},\n",
       " 'contador.numeroCrcContadorPf': '000167',\n",
       " 'contador.ufCrcContadorPf': 'TO',\n",
       " 'contador.cpfContador': '06737552153',\n",
       " 'sociedade.socio': [{'tipo': {'codigo': 2, 'valor': 'Socio PF'},\n",
       "   'nome': 'Walnibia Aparecida Nascimento Lobo',\n",
       "   'numero': '00022103830130',\n",
       "   'percentualParticipacao': '01000',\n",
       "   'codigoPaisOrigem': '000'},\n",
       "  {'tipo': {'codigo': 2, 'valor': 'Socio PF'},\n",
       "   'nome': 'Wilma Aparecida Lobo de Queiroz',\n",
       "   'numero': '00026078988115',\n",
       "   'percentualParticipacao': '09000',\n",
       "   'codigoPaisOrigem': '000'}],\n",
       " 'dataRegistroAnatel': '2023-02-06',\n",
       " 'resultado': 'CNPJ encontrado',\n",
       " 'erro': ''}"
      ]
     },
     "execution_count": 4,
     "metadata": {},
     "output_type": "execute_result"
    }
   ],
   "source": [
    "\n",
    "req.consultar('00086843000152')"
   ]
  },
  {
   "cell_type": "code",
   "execution_count": 7,
   "metadata": {},
   "outputs": [
    {
     "data": {
      "text/plain": [
       "{'cnpj': '26176436000120',\n",
       " 'matriz': True,\n",
       " 'nomeEmpresarial': 'Shb Comercio e Industria de Alimentos S.a.',\n",
       " 'nomeFantasia': '',\n",
       " 'situacaoCadastral.codigo': '08',\n",
       " 'situacaoCadastral.valor': 'Baixada',\n",
       " 'situacaoCadastral.dataAlteracao': '2018-12-31T00:00:00',\n",
       " 'naturezaJuridica.codigo': '2054',\n",
       " 'naturezaJuridica.descricao': 'SOCIEDADE ANONIMA FECHADA',\n",
       " 'dataAbertura': '2016-09-14',\n",
       " 'cnaePrincipal': '1012101',\n",
       " 'cnaeSecundario': '0155501|0155502|0155503|0155504|0155505|0210101|0210102|0210103|0210106|0210107|0210108|0220901|0220902|1013901|1013902|1041400|1043100|1062700|1066000|1069400|1091101|1094500|1096100|1099699|3511501|4631100|4622200|4623101|4623108|4623109|4623199|4634602|4634699|4635499|4637105|4637103|4637199|4639701|4639702|4691500|4692300|4712100|4721102|4721103|4722901|4729699|5211799|8211300',\n",
       " 'endereco.logradouro': 'Rua Jorge Tzachel',\n",
       " 'endereco.numero': '475',\n",
       " 'endereco.complemento': 'Andar 1 Sala 02',\n",
       " 'endereco.cep': '88301600',\n",
       " 'endereco.bairro': 'Fazenda',\n",
       " 'endereco.codigoMunicipio': 4208203,\n",
       " 'endereco.nomeMunicipio': 'Itajai',\n",
       " 'endereco.uf': 'SC',\n",
       " 'telefone1.ddd': '47',\n",
       " 'telefone1.numero': '32494228',\n",
       " 'email': 'tributariocsc@brf-br.com',\n",
       " 'responsavel.cpf': '24665358826',\n",
       " 'responsavel.nome': 'Elcio Mitsuhiro Ito',\n",
       " 'capitalSocial': '147904956500',\n",
       " 'porte.codigo': 5,\n",
       " 'porte.valor': 'Demais',\n",
       " 'opcaoSimples.opcaoSimples': False,\n",
       " 'contador.numeroCrcContadorPj': '000000',\n",
       " 'contador.cnpjContador': '00000000000000',\n",
       " 'contador.tipoCrcContadorPf': {'codigo': 'O', 'valor': 'Originario'},\n",
       " 'contador.classficacaoCrcContadorPf': {'codigo': 1, 'valor': 'Profissional'},\n",
       " 'contador.numeroCrcContadorPf': '003755',\n",
       " 'contador.ufCrcContadorPf': 'MT',\n",
       " 'contador.cpfContador': '49214314934',\n",
       " 'sociedade.socio': [{'tipo': {'codigo': 2, 'valor': 'Socio PF'},\n",
       "   'nome': 'Elcio Mitsuhiro Ito',\n",
       "   'numero': '00024665358826',\n",
       "   'percentualParticipacao': '00000',\n",
       "   'codigoPaisOrigem': '000'},\n",
       "  {'tipo': {'codigo': 2, 'valor': 'Socio PF'},\n",
       "   'nome': 'Marcelo Schmeider',\n",
       "   'numero': '00085566306934',\n",
       "   'percentualParticipacao': '00000',\n",
       "   'codigoPaisOrigem': '000'},\n",
       "  {'tipo': {'codigo': 2, 'valor': 'Socio PF'},\n",
       "   'nome': 'Vinicius Guimaraes Barbosa',\n",
       "   'numero': '00095693181715',\n",
       "   'percentualParticipacao': '00000',\n",
       "   'codigoPaisOrigem': '000'}],\n",
       " 'dataRegistroAnatel': '2022-12-05',\n",
       " 'resultado': 'CNPJ encontrado',\n",
       " 'erro': ''}"
      ]
     },
     "execution_count": 7,
     "metadata": {},
     "output_type": "execute_result"
    }
   ],
   "source": [
    "req.consultar(sadia)"
   ]
  },
  {
   "cell_type": "code",
   "execution_count": null,
   "metadata": {},
   "outputs": [],
   "source": []
  }
 ],
 "metadata": {
  "kernelspec": {
   "display_name": "receitaws",
   "language": "python",
   "name": "python3"
  },
  "language_info": {
   "codemirror_mode": {
    "name": "ipython",
    "version": 3
   },
   "file_extension": ".py",
   "mimetype": "text/x-python",
   "name": "python",
   "nbconvert_exporter": "python",
   "pygments_lexer": "ipython3",
   "version": "3.10.9"
  },
  "orig_nbformat": 4,
  "vscode": {
   "interpreter": {
    "hash": "6ac708259ee4811cb55e81bebde4558632917ddb65cee56157531a27969f6ccd"
   }
  }
 },
 "nbformat": 4,
 "nbformat_minor": 2
}
