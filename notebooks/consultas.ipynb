{
 "cells": [
  {
   "cell_type": "raw",
   "metadata": {},
   "source": [
    "---\n",
    "title: Consultas\n",
    "output-file: consultas.html\n",
    "description: Requisições GET na API do Receita-WS\n",
    "---"
   ]
  },
  {
   "cell_type": "code",
   "execution_count": null,
   "metadata": {},
   "outputs": [],
   "source": [
    "#|default_exp consultas"
   ]
  },
  {
   "cell_type": "code",
   "execution_count": null,
   "metadata": {},
   "outputs": [
    {
     "name": "stderr",
     "output_type": "stream",
     "text": [
      "d:\\Applications\\Scoop\\apps\\miniconda3\\current\\envs\\receitaws\\lib\\site-packages\\fastprogress\\fastprogress.py:107: UserWarning: Couldn't import ipywidgets properly, progress bar will use console behavior\n",
      "  warn(\"Couldn't import ipywidgets properly, progress bar will use console behavior\")\n"
     ]
    }
   ],
   "source": [
    "#|export\n",
    "import re\n",
    "import os\n",
    "from typing import Union, Iterable\n",
    "from time import time\n",
    "import urllib3\n",
    "urllib3.disable_warnings(urllib3.exceptions.InsecureRequestWarning)\n",
    "\n",
    "import requests\n",
    "import pandas as pd\n",
    "\n",
    "from fastcore.basics import store_attr, listify\n",
    "from fastcore.foundation import L\n",
    "from fastcore.parallel import parallel\n",
    "from fastcore.xtras import Path, partialler\n",
    "\n",
    "from validate_docbr import CPF, CNPJ\n",
    "from receitaws.requisicoes import Requisicao"
   ]
  },
  {
   "cell_type": "code",
   "execution_count": null,
   "metadata": {},
   "outputs": [],
   "source": [
    "#|export\n",
    "def salvar_requisicao(results: Iterable, # Lista com o retorno das requisições\n",
    "                 saida: str, # Nome do Arquivo de Saída\n",
    ")->None:\n",
    "    \"\"\"Salva a lista de requisições `results` no arquivo `saida`\"\"\"\n",
    "    df = pd.DataFrame(results)\n",
    "    if saida is None:\n",
    "        saida = Path.cwd() / 'resultados.csv'\n",
    "    try:\n",
    "        saida = Path(saida)\n",
    "    except TypeError as e:\n",
    "        raise TypeError(\"Verifique o caminho do arquivo de saída digitado!\") from e\n",
    "\n",
    "    match saida.suffix:\n",
    "        case '.csv' | '.txt':\n",
    "            df.to_csv(saida, index=False)\n",
    "        case '.xlsx':\n",
    "            df.to_excel(saida, index=False, engine='openpyxl')\n",
    "        case '.json':\n",
    "            df.to_json(saida)\n",
    "        case '.md':\n",
    "            df.to_markdown(saida, index=False)\n",
    "        case '.html':\n",
    "            df.to_html(saida, index=False)\n",
    "        case _:\n",
    "            df.to_csv(saida, index=False)\n",
    "            \n",
    "    return df\n",
    "\n",
    "def requisitar_em_lote(entrada: str, # Arquivo texto de entrada: 1 CPF | CNPJ por linha ou objeto python iterável\n",
    "                       cpf_usuario: str, # CPF do usuário requisitante\n",
    "                       tipo: str, # Tipo de Requisição CPF | CNPJ\n",
    "                       origem: str, # Texto com identificação da requisição: e.g. 'Teste'\n",
    "                       ambiente: str = 'hm', # Ambiente onde realizar a requisição: hm | pd \n",
    "                       cache: int = 36, # Tempo de expiração do cache em meses \n",
    "                       saida: str = None, # Arquivo de saída da requisição\n",
    "                       n_workers: int = 2, # Número de requisições a serem efetuadas em paralelo\n",
    ")->pd.DataFrame:\n",
    "    \"\"\"Lê o arquivo `entrada` com um CPF | CPNJ por linha ou o objeto python iterável.\n",
    "    Faz a requisição no `ambiente` do receita-ws e salva os resultados em `saida`\n",
    "    \"\"\"\n",
    "    try:\n",
    "        conteudo = Path(entrada).readlines()\n",
    "    except TypeError:\n",
    "        conteudo = listify(entrada)\n",
    "    req = Requisicao(cpf_usuario, tipo, ambiente, origem, cache)\n",
    "    resultado = req.consultar_em_lote(conteudo, n_workers)\n",
    "    return salvar_requisicao(resultado, saida)"
   ]
  },
  {
   "cell_type": "code",
   "execution_count": null,
   "metadata": {},
   "outputs": [
    {
     "data": {
      "text/html": [
       "<div>\n",
       "<style scoped>\n",
       "    .dataframe tbody tr th:only-of-type {\n",
       "        vertical-align: middle;\n",
       "    }\n",
       "\n",
       "    .dataframe tbody tr th {\n",
       "        vertical-align: top;\n",
       "    }\n",
       "\n",
       "    .dataframe thead th {\n",
       "        text-align: right;\n",
       "    }\n",
       "</style>\n",
       "<table border=\"1\" class=\"dataframe\">\n",
       "  <thead>\n",
       "    <tr style=\"text-align: right;\">\n",
       "      <th></th>\n",
       "      <th>Unnamed: 0</th>\n",
       "      <th>Ordem</th>\n",
       "      <th>Tipo_Ident</th>\n",
       "      <th>CNPJ_CPF</th>\n",
       "      <th>Nome_Entidade</th>\n",
       "      <th>Valido</th>\n",
       "    </tr>\n",
       "  </thead>\n",
       "  <tbody>\n",
       "    <tr>\n",
       "      <th>0</th>\n",
       "      <td>0</td>\n",
       "      <td>718</td>\n",
       "      <td>CPF</td>\n",
       "      <td>33481695268</td>\n",
       "      <td>RUBEM MORAIS DE LIMA</td>\n",
       "      <td>True</td>\n",
       "    </tr>\n",
       "    <tr>\n",
       "      <th>1</th>\n",
       "      <td>1</td>\n",
       "      <td>838</td>\n",
       "      <td>CPF</td>\n",
       "      <td>47819847034</td>\n",
       "      <td>LUIS ROBERTO CUNHA REY</td>\n",
       "      <td>True</td>\n",
       "    </tr>\n",
       "    <tr>\n",
       "      <th>2</th>\n",
       "      <td>2</td>\n",
       "      <td>971</td>\n",
       "      <td>CPF</td>\n",
       "      <td>18876126880</td>\n",
       "      <td>SIDNEY SOUZA DA SILVA</td>\n",
       "      <td>True</td>\n",
       "    </tr>\n",
       "    <tr>\n",
       "      <th>3</th>\n",
       "      <td>3</td>\n",
       "      <td>974</td>\n",
       "      <td>CPF</td>\n",
       "      <td>58201343204</td>\n",
       "      <td>VILSON ANTUNES MAXIMIANO</td>\n",
       "      <td>True</td>\n",
       "    </tr>\n",
       "    <tr>\n",
       "      <th>4</th>\n",
       "      <td>4</td>\n",
       "      <td>1020</td>\n",
       "      <td>CPF</td>\n",
       "      <td>21996857134</td>\n",
       "      <td>LUIZ CARLOS DA SILVA SANTOS</td>\n",
       "      <td>True</td>\n",
       "    </tr>\n",
       "  </tbody>\n",
       "</table>\n",
       "</div>"
      ],
      "text/plain": [
       "   Unnamed: 0  Ordem Tipo_Ident     CNPJ_CPF                Nome_Entidade  \\\n",
       "0           0    718        CPF  33481695268         RUBEM MORAIS DE LIMA   \n",
       "1           1    838        CPF  47819847034       LUIS ROBERTO CUNHA REY   \n",
       "2           2    971        CPF  18876126880        SIDNEY SOUZA DA SILVA   \n",
       "3           3    974        CPF  58201343204     VILSON ANTUNES MAXIMIANO   \n",
       "4           4   1020        CPF  21996857134  LUIZ CARLOS DA SILVA SANTOS   \n",
       "\n",
       "   Valido  \n",
       "0    True  \n",
       "1    True  \n",
       "2    True  \n",
       "3    True  \n",
       "4    True  "
      ]
     },
     "execution_count": null,
     "metadata": {},
     "output_type": "execute_result"
    }
   ],
   "source": [
    "folder = Path.cwd().parent / 'dados'"
   ]
  },
  {
   "cell_type": "code",
   "execution_count": null,
   "metadata": {},
   "outputs": [],
   "source": [
    "#| eval: false\n",
    "cpf_list = pd.read_excel(folder / 'Entidades_AFFO_CPF.xlsx')\n",
    "cpf_list.head()"
   ]
  },
  {
   "cell_type": "code",
   "execution_count": null,
   "metadata": {},
   "outputs": [
    {
     "data": {
      "text/html": [
       "<div>\n",
       "<style scoped>\n",
       "    .dataframe tbody tr th:only-of-type {\n",
       "        vertical-align: middle;\n",
       "    }\n",
       "\n",
       "    .dataframe tbody tr th {\n",
       "        vertical-align: top;\n",
       "    }\n",
       "\n",
       "    .dataframe thead th {\n",
       "        text-align: right;\n",
       "    }\n",
       "</style>\n",
       "<table border=\"1\" class=\"dataframe\">\n",
       "  <thead>\n",
       "    <tr style=\"text-align: right;\">\n",
       "      <th></th>\n",
       "      <th>Ordem</th>\n",
       "      <th>Tipo_Ident</th>\n",
       "      <th>CNPJ_CPF</th>\n",
       "      <th>Nome_Entidade</th>\n",
       "      <th>Valido</th>\n",
       "    </tr>\n",
       "  </thead>\n",
       "  <tbody>\n",
       "    <tr>\n",
       "      <th>0</th>\n",
       "      <td>1</td>\n",
       "      <td>CNPJ</td>\n",
       "      <td>76535764000143</td>\n",
       "      <td>Oi S.a. - em Recuperacao Judicial</td>\n",
       "      <td>True</td>\n",
       "    </tr>\n",
       "    <tr>\n",
       "      <th>1</th>\n",
       "      <td>2</td>\n",
       "      <td>CNPJ</td>\n",
       "      <td>2558157000162</td>\n",
       "      <td>TELEFONICA BRASIL S.A.</td>\n",
       "      <td>True</td>\n",
       "    </tr>\n",
       "    <tr>\n",
       "      <th>2</th>\n",
       "      <td>3</td>\n",
       "      <td>CNPJ</td>\n",
       "      <td>2421421000111</td>\n",
       "      <td>TIM S A</td>\n",
       "      <td>True</td>\n",
       "    </tr>\n",
       "    <tr>\n",
       "      <th>3</th>\n",
       "      <td>4</td>\n",
       "      <td>CNPJ</td>\n",
       "      <td>40432544000147</td>\n",
       "      <td>CLARO S.A.</td>\n",
       "      <td>True</td>\n",
       "    </tr>\n",
       "    <tr>\n",
       "      <th>4</th>\n",
       "      <td>5</td>\n",
       "      <td>CNPJ</td>\n",
       "      <td>43663075000165</td>\n",
       "      <td>WINITY II TELECOM LTDA</td>\n",
       "      <td>True</td>\n",
       "    </tr>\n",
       "  </tbody>\n",
       "</table>\n",
       "</div>"
      ],
      "text/plain": [
       "   Ordem Tipo_Ident        CNPJ_CPF                      Nome_Entidade  Valido\n",
       "0      1       CNPJ  76535764000143  Oi S.a. - em Recuperacao Judicial    True\n",
       "1      2       CNPJ   2558157000162             TELEFONICA BRASIL S.A.    True\n",
       "2      3       CNPJ   2421421000111                            TIM S A    True\n",
       "3      4       CNPJ  40432544000147                         CLARO S.A.    True\n",
       "4      5       CNPJ  43663075000165             WINITY II TELECOM LTDA    True"
      ]
     },
     "execution_count": null,
     "metadata": {},
     "output_type": "execute_result"
    }
   ],
   "source": [
    "#| eval: false\n",
    "cnpj = pd.read_excel(folder / 'Entidades_AFFO_CNPJ.xlsx')\n",
    "cnpj.head()"
   ]
  },
  {
   "cell_type": "code",
   "execution_count": null,
   "metadata": {},
   "outputs": [
    {
     "data": {
      "text/plain": [
       "118"
      ]
     },
     "execution_count": null,
     "metadata": {},
     "output_type": "execute_result"
    }
   ],
   "source": [
    "#| eval: false\n",
    "Path(folder / 'cpf.csv').write_text('\\n'.join([str(c) for c in cpf_list.head(10).CNPJ_CPF]))"
   ]
  },
  {
   "cell_type": "code",
   "execution_count": null,
   "metadata": {},
   "outputs": [
    {
     "data": {
      "text/plain": [
       "143"
      ]
     },
     "execution_count": null,
     "metadata": {},
     "output_type": "execute_result"
    }
   ],
   "source": [
    "#| eval: false\n",
    "Path(folder / 'cnpj.csv').write_text('\\n'.join([str(c) for c in cnpj.head(10).CNPJ_CPF]))"
   ]
  },
  {
   "cell_type": "code",
   "execution_count": null,
   "metadata": {},
   "outputs": [],
   "source": [
    "#|hide\n",
    "import nbdev; nbdev.nbdev_export()"
   ]
  }
 ],
 "metadata": {
  "kernelspec": {
   "display_name": "receitaws",
   "language": "python",
   "name": "python3"
  }
 },
 "nbformat": 4,
 "nbformat_minor": 4
}
