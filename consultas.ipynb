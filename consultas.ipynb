{
 "cells": [
  {
   "cell_type": "raw",
   "metadata": {},
   "source": [
    "---\n",
    "title: Consultas\n",
    "output-file: consultas.html\n",
    "description: Teste de Requisições GET na API do Receita-WS\n",
    "---"
   ]
  },
  {
   "cell_type": "code",
   "execution_count": 1,
   "metadata": {},
   "outputs": [],
   "source": [
    "#| default_exp consultas"
   ]
  },
  {
   "cell_type": "code",
   "execution_count": 1,
   "metadata": {},
   "outputs": [],
   "source": [
    "#| export\n",
    "import re\n",
    "from typing import Union, Iterable\n",
    "\n",
    "import requests\n",
    "import pandas as pd\n",
    "\n",
    "from fastcore.basics import store_attr\n",
    "from fastcore.foundation import L\n",
    "from fastcore.parallel import parallel\n",
    "from fastcore.xtras import Path\n",
    "from fastcore.script import call_parse, Param\n",
    "\n",
    "BASEURL = \"http://webservicesintranet{}.anatel.gov.br/receita/rest/\"\n",
    "AMBIENTE = {'ds', 'hm', 'su', 'pd'}\n",
    "TYPE = {'cpf': \"obterPessoaFisica\", 'cnpj': \"obterPessoaJuridica\"}\n",
    "CPF_SIMPLES = ('cpf', 'nome', 'nomeMae', 'dataNascimento', 'estrangeiro',\n",
    "               'tituloEleitor', 'dataAtualizacao', 'dataRegistroAnatel', \n",
    "               'resultado', 'unidadeAdministrativaCodigo', 'anoObito', 'erro')\n",
    "SEXO =  {1: 'Masculino', 2: 'Feminino', 9 : 'Não encontrado'}\n",
    "SIZE = {11: 'cpf', 14: 'cnpj'}"
   ]
  },
  {
   "cell_type": "code",
   "execution_count": 2,
   "metadata": {},
   "outputs": [],
   "source": [
    "#| hide\n",
    "from nbdev.showdoc import *"
   ]
  },
  {
   "cell_type": "markdown",
   "metadata": {},
   "source": [
    "## Validador de CPF | CPNJ "
   ]
  },
  {
   "cell_type": "code",
   "execution_count": 3,
   "metadata": {},
   "outputs": [],
   "source": [
    "def validador_cpf(cpf: str) -> bool:\n",
    "    \"\"\"\n",
    "    Valida um CPF\n",
    "    \"\"\"\n",
    "    assert len(cpf) == SIZE['cpf'], f\"CPF inválido, digite um CPF válido com {SIZE['cpf']} dígitos\"    "
   ]
  },
  {
   "cell_type": "markdown",
   "metadata": {},
   "source": [
    "## Classe Principal para Requisição"
   ]
  },
  {
   "cell_type": "code",
   "execution_count": 4,
   "metadata": {},
   "outputs": [],
   "source": [
    "#| export \n",
    "class Request:\n",
    "    def __init__(self, \n",
    "                 cpf_usr: Union[str, int], # CPF do usuário requisitante\n",
    "                 ambiente: str = 'ds', # Ambiente onde realizar a requisição: ds: desenvolvimento, hm: homologação, su: sustentação, pd: produção\n",
    "                 origem: str = None, # Texto com identificação da requisição: e.g. \"Teste\"\n",
    "                 cache: int = 36, # Tempo de expiração do cache em meses (Produção)\n",
    "    ):\n",
    "        \"\"\"Classe para fazer requisições ao Web Service Infoconv da Receita Federal\"\"\"\n",
    "        store_attr()\n",
    "        assert isinstance(self.origem, str), \"origem não pode ficar vazio e deve ser uma string de até 30 caracteres\"\n",
    "        self.origem = self.origem[:30]\n",
    "        assert (ambiente := self.ambiente.lower()) in AMBIENTE, f\"Ambiente inválido, escolha uma das opções {AMBIENTE}\"\n",
    "        if ambiente == 'pd':\n",
    "            self.ambiente = ''\n",
    "\n",
    "    def format_url(self, query)-> str: \n",
    "        if (tipo := len(query)) not in SIZE:\n",
    "            raise ValueError(\"Query inválida, CPF possui 11 caracteres e CNPJ possui 14 caracteres\")\n",
    "        tipo = SIZE[tipo] \n",
    "        req_type = TYPE[tipo]\n",
    "        suffix = ''\n",
    "        if self.cache is not None:\n",
    "            try:\n",
    "                cache = int(self.cache)\n",
    "                assert cache >= 0, \"Tempo de expiração do cache inválido, escolha um número inteiro maior que zero\"\n",
    "            except ValueError as e:\n",
    "                raise ValueError(\"Valor inválido de expira_cache, escolha um número inteiro maior que zero\") from e\n",
    "            req_type += 'IgnoraCacheAntigo'\n",
    "            suffix = f'&mesesExpiraCache={cache}'\n",
    "\n",
    "        return f'{BASEURL.format(self.ambiente)}{req_type}?{tipo}={query}&cpfUsuario={self.cpf_usr}{suffix}&origem={self.origem}'\n",
    "\n",
    "    @staticmethod\n",
    "    def parse_json(json_dict)-> dict:\n",
    "        d = {}\n",
    "        for k,v in json_dict.items():\n",
    "            if isinstance(v, list): \n",
    "                v = '|'.join(v)\n",
    "            if isinstance(v, dict):\n",
    "                d.update({f'{k}_{sk}': sv for sk, sv in v.items()})\n",
    "                continue\n",
    "            d[k] = v\n",
    "        return {k:v.lstrip().rstrip() if isinstance(v, str) else v for k, v in d.items()}\n",
    "\n",
    "    def get_request(self, url)-> dict:\n",
    "        \"\"\"Make a request to the url and return the json response\"\"\"\n",
    "        r = requests.get(url)\n",
    "        if r.status_code == 200 and r.headers['content-type'] == 'application/json':\n",
    "            return Request.parse_json(r.json())\n",
    "        return {}\n",
    "\n",
    "    def query_ws(self, \n",
    "                 query: Union[str, int], # Identificador da requisição: CPF ou CNPJ de acordo com o tipo\n",
    "\n",
    "                ):\n",
    "        query = ''.join(re.findall(\"\\d\", query))\n",
    "        return self.get_request(self.format_url(query))\n",
    "    \n",
    "    def batch_request(self, queries: Iterable[Union[str, int]]):                        \n",
    "        return L(queries).map(self.query_ws)\n",
    "        "
   ]
  },
  {
   "cell_type": "markdown",
   "metadata": {},
   "source": [
    "## Testes"
   ]
  },
  {
   "cell_type": "code",
   "execution_count": 5,
   "metadata": {},
   "outputs": [],
   "source": [
    "from fastcore.test import ExceptionExpected, test_eq\n",
    "cpf_usuario = '31888916877'\n",
    "identificador = '31888916877'\n",
    "origem = \"Teste REST API\"\n",
    "ambiente = 'su'"
   ]
  },
  {
   "cell_type": "code",
   "execution_count": 6,
   "metadata": {},
   "outputs": [],
   "source": [
    "req = Request(cpf_usuario, ambiente, origem)"
   ]
  },
  {
   "cell_type": "code",
   "execution_count": 7,
   "metadata": {},
   "outputs": [
    {
     "data": {
      "text/plain": [
       "{'cpf': '31888916877',\n",
       " 'nome': 'Ronaldo da Silva Alves Batista',\n",
       " 'situacaoCadastral_codigo': 0,\n",
       " 'situacaoCadastral_valor': 'Regular',\n",
       " 'paisResidencia_residenteExterior': False,\n",
       " 'paisResidencia_codigoPais': 0,\n",
       " 'paisResidencia_nomePais': '',\n",
       " 'nomeMae': 'MARIA ELIANE DA SILVA BATISTA',\n",
       " 'dataNascimento': '1985-04-02',\n",
       " 'sexo_codigo': 1,\n",
       " 'sexo_valor': 'Masculino',\n",
       " 'ocupacao_naturezaOcupacaoCodigo': 22,\n",
       " 'ocupacao_naturezaOcupacaoDescricao': 'Servidor público de autarquia ou fundação federal',\n",
       " 'ocupacao_ocupacaoPrincipalCodigo': 116,\n",
       " 'ocupacao_ocupacaoPrincipalDescricao': 'Servidor das demais carreiras da administração pública direta, autárquica e fundacional 117 Titular de Cartório',\n",
       " 'ocupacao_exercicioOcupacao': 2018,\n",
       " 'endereco_logradouro': 'Rua Vergueiro',\n",
       " 'endereco_numero': '3106',\n",
       " 'endereco_complemento': 'Apto 13',\n",
       " 'endereco_cep': '04102001',\n",
       " 'endereco_bairro': 'Vila Mariana',\n",
       " 'endereco_codigoMunicipio': 3550308,\n",
       " 'endereco_nomeMunicipio': 'SAO PAULO',\n",
       " 'endereco_uf': 'SP',\n",
       " 'telefone_ddd': '0011',\n",
       " 'telefone_numero': '00000000',\n",
       " 'unidadeAdministrativaCodigo': '0819600',\n",
       " 'anoObito': 0,\n",
       " 'estrangeiro': False,\n",
       " 'dataAtualizacao': '2018-09-24',\n",
       " 'dataRegistroAnatel': '2020-01-19',\n",
       " 'resultado': 'CPF encontrado',\n",
       " 'erro': ''}"
      ]
     },
     "execution_count": 7,
     "metadata": {},
     "output_type": "execute_result"
    }
   ],
   "source": [
    "req.query_ws(identificador)"
   ]
  },
  {
   "cell_type": "code",
   "execution_count": 8,
   "metadata": {},
   "outputs": [
    {
     "data": {
      "text/plain": [
       "(#2) [{'cpf': '31888916877', 'nome': 'Ronaldo da Silva Alves Batista', 'situacaoCadastral_codigo': 0, 'situacaoCadastral_valor': 'Regular', 'paisResidencia_residenteExterior': False, 'paisResidencia_codigoPais': 0, 'paisResidencia_nomePais': '', 'nomeMae': 'MARIA ELIANE DA SILVA BATISTA', 'dataNascimento': '1985-04-02', 'sexo_codigo': 1, 'sexo_valor': 'Masculino', 'ocupacao_naturezaOcupacaoCodigo': 22, 'ocupacao_naturezaOcupacaoDescricao': 'Servidor público de autarquia ou fundação federal', 'ocupacao_ocupacaoPrincipalCodigo': 116, 'ocupacao_ocupacaoPrincipalDescricao': 'Servidor das demais carreiras da administração pública direta, autárquica e fundacional 117 Titular de Cartório', 'ocupacao_exercicioOcupacao': 2018, 'endereco_logradouro': 'Rua Vergueiro', 'endereco_numero': '3106', 'endereco_complemento': 'Apto 13', 'endereco_cep': '04102001', 'endereco_bairro': 'Vila Mariana', 'endereco_codigoMunicipio': 3550308, 'endereco_nomeMunicipio': 'SAO PAULO', 'endereco_uf': 'SP', 'telefone_ddd': '0011', 'telefone_numero': '00000000', 'unidadeAdministrativaCodigo': '0819600', 'anoObito': 0, 'estrangeiro': False, 'dataAtualizacao': '2018-09-24', 'dataRegistroAnatel': '2020-01-19', 'resultado': 'CPF encontrado', 'erro': ''},{'cpf': '76538672868', 'nome': 'Antonio Alves Batista', 'situacaoCadastral_codigo': 0, 'situacaoCadastral_valor': 'Regular', 'paisResidencia_residenteExterior': False, 'paisResidencia_codigoPais': 0, 'paisResidencia_nomePais': '', 'nomeMae': 'MARIA ALVES BATISTA', 'dataNascimento': '1948-01-15', 'sexo_codigo': 1, 'sexo_valor': 'Masculino', 'ocupacao_naturezaOcupacaoCodigo': 1, 'ocupacao_naturezaOcupacaoDescricao': 'Empregado de empresa do setor privado, exceto de instituições financeiras', 'ocupacao_ocupacaoPrincipalCodigo': 710, 'ocupacao_ocupacaoPrincipalDescricao': 'Trabalhador da indústria extrativa e da construção civil', 'ocupacao_exercicioOcupacao': 2007, 'endereco_logradouro': 'Rua Ana Clelia Rodrigues', 'endereco_numero': '384', 'endereco_complemento': 'Casa', 'endereco_cep': '06180020', 'endereco_bairro': 'Vila Quitauna', 'endereco_codigoMunicipio': 3534401, 'endereco_nomeMunicipio': 'OSASCO', 'endereco_uf': 'SP', 'telefone_ddd': '0000', 'telefone_numero': '00000000', 'unidadeAdministrativaCodigo': '0811300', 'anoObito': 0, 'estrangeiro': False, 'dataAtualizacao': '2018-09-14', 'dataRegistroAnatel': '2020-01-19', 'resultado': 'CPF encontrado', 'erro': ''}]"
      ]
     },
     "execution_count": 8,
     "metadata": {},
     "output_type": "execute_result"
    }
   ],
   "source": [
    "cpfs = req.batch_request(['31888916877', '76538672868'])\n",
    "cpfs"
   ]
  },
  {
   "cell_type": "code",
   "execution_count": 9,
   "metadata": {},
   "outputs": [
    {
     "data": {
      "text/html": [
       "<div>\n",
       "<style scoped>\n",
       "    .dataframe tbody tr th:only-of-type {\n",
       "        vertical-align: middle;\n",
       "    }\n",
       "\n",
       "    .dataframe tbody tr th {\n",
       "        vertical-align: top;\n",
       "    }\n",
       "\n",
       "    .dataframe thead th {\n",
       "        text-align: right;\n",
       "    }\n",
       "</style>\n",
       "<table border=\"1\" class=\"dataframe\">\n",
       "  <thead>\n",
       "    <tr style=\"text-align: right;\">\n",
       "      <th></th>\n",
       "      <th>cpf</th>\n",
       "      <th>nome</th>\n",
       "      <th>situacaoCadastral_codigo</th>\n",
       "      <th>situacaoCadastral_valor</th>\n",
       "      <th>paisResidencia_residenteExterior</th>\n",
       "      <th>paisResidencia_codigoPais</th>\n",
       "      <th>paisResidencia_nomePais</th>\n",
       "      <th>nomeMae</th>\n",
       "      <th>dataNascimento</th>\n",
       "      <th>sexo_codigo</th>\n",
       "      <th>...</th>\n",
       "      <th>endereco_uf</th>\n",
       "      <th>telefone_ddd</th>\n",
       "      <th>telefone_numero</th>\n",
       "      <th>unidadeAdministrativaCodigo</th>\n",
       "      <th>anoObito</th>\n",
       "      <th>estrangeiro</th>\n",
       "      <th>dataAtualizacao</th>\n",
       "      <th>dataRegistroAnatel</th>\n",
       "      <th>resultado</th>\n",
       "      <th>erro</th>\n",
       "    </tr>\n",
       "  </thead>\n",
       "  <tbody>\n",
       "    <tr>\n",
       "      <th>0</th>\n",
       "      <td>31888916877</td>\n",
       "      <td>Ronaldo da Silva Alves Batista</td>\n",
       "      <td>0</td>\n",
       "      <td>Regular</td>\n",
       "      <td>False</td>\n",
       "      <td>0</td>\n",
       "      <td></td>\n",
       "      <td>MARIA ELIANE DA SILVA BATISTA</td>\n",
       "      <td>1985-04-02</td>\n",
       "      <td>1</td>\n",
       "      <td>...</td>\n",
       "      <td>SP</td>\n",
       "      <td>0011</td>\n",
       "      <td>00000000</td>\n",
       "      <td>0819600</td>\n",
       "      <td>0</td>\n",
       "      <td>False</td>\n",
       "      <td>2018-09-24</td>\n",
       "      <td>2020-01-19</td>\n",
       "      <td>CPF encontrado</td>\n",
       "      <td></td>\n",
       "    </tr>\n",
       "    <tr>\n",
       "      <th>1</th>\n",
       "      <td>76538672868</td>\n",
       "      <td>Antonio Alves Batista</td>\n",
       "      <td>0</td>\n",
       "      <td>Regular</td>\n",
       "      <td>False</td>\n",
       "      <td>0</td>\n",
       "      <td></td>\n",
       "      <td>MARIA ALVES BATISTA</td>\n",
       "      <td>1948-01-15</td>\n",
       "      <td>1</td>\n",
       "      <td>...</td>\n",
       "      <td>SP</td>\n",
       "      <td>0000</td>\n",
       "      <td>00000000</td>\n",
       "      <td>0811300</td>\n",
       "      <td>0</td>\n",
       "      <td>False</td>\n",
       "      <td>2018-09-14</td>\n",
       "      <td>2020-01-19</td>\n",
       "      <td>CPF encontrado</td>\n",
       "      <td></td>\n",
       "    </tr>\n",
       "  </tbody>\n",
       "</table>\n",
       "<p>2 rows × 33 columns</p>\n",
       "</div>"
      ],
      "text/plain": [
       "           cpf                            nome  situacaoCadastral_codigo  \\\n",
       "0  31888916877  Ronaldo da Silva Alves Batista                         0   \n",
       "1  76538672868           Antonio Alves Batista                         0   \n",
       "\n",
       "  situacaoCadastral_valor  paisResidencia_residenteExterior  \\\n",
       "0                 Regular                             False   \n",
       "1                 Regular                             False   \n",
       "\n",
       "   paisResidencia_codigoPais paisResidencia_nomePais  \\\n",
       "0                          0                           \n",
       "1                          0                           \n",
       "\n",
       "                         nomeMae dataNascimento  sexo_codigo  ... endereco_uf  \\\n",
       "0  MARIA ELIANE DA SILVA BATISTA     1985-04-02            1  ...          SP   \n",
       "1            MARIA ALVES BATISTA     1948-01-15            1  ...          SP   \n",
       "\n",
       "   telefone_ddd telefone_numero  unidadeAdministrativaCodigo anoObito  \\\n",
       "0          0011        00000000                      0819600        0   \n",
       "1          0000        00000000                      0811300        0   \n",
       "\n",
       "   estrangeiro dataAtualizacao dataRegistroAnatel       resultado erro  \n",
       "0        False      2018-09-24         2020-01-19  CPF encontrado       \n",
       "1        False      2018-09-14         2020-01-19  CPF encontrado       \n",
       "\n",
       "[2 rows x 33 columns]"
      ]
     },
     "execution_count": 9,
     "metadata": {},
     "output_type": "execute_result"
    }
   ],
   "source": [
    "pd.DataFrame(cpfs)"
   ]
  },
  {
   "cell_type": "code",
   "execution_count": 12,
   "metadata": {},
   "outputs": [
    {
     "data": {
      "text/plain": [
       "{'cnpj': '00280273000137',\n",
       " 'matriz': True,\n",
       " 'nomeEmpresarial': 'Samsung Eletronica da Amazonia Ltda',\n",
       " 'nomeFantasia': 'Samsung da Amazonia',\n",
       " 'situacaoCadastral_codigo': '02',\n",
       " 'situacaoCadastral_valor': 'Ativa',\n",
       " 'situacaoCadastral_dataAlteracao': '2005-11-03T00:00:00',\n",
       " 'naturezaJuridica_codigo': '2062',\n",
       " 'naturezaJuridica_descricao': 'SOCIEDADE EMPRESARIA LIMITADA',\n",
       " 'dataAbertura': '1994-10-31',\n",
       " 'cnaePrincipal': '2640000',\n",
       " 'cnaeSecundario': '1922599|2621300|2622100|2632900|2670102|3313999|4618402|4618499|4645101|4649401|4649402|4649499|4651601|4651602|4652400|5211799|6202300|6203100|7490199|7739002|7739099|8211300|9511800|9512600|9521500|9529199|0000000|0000000|0000000|0000000|0000000|0000000|0000000|0000000|0000000|0000000|0000000|0000000|0000000|0000000|0000000|0000000|0000000|0000000|0000000|0000000|0000000|0000000|0000000|0000000|0000000|0000000|0000000|0000000|0000000|0000000|0000000|0000000|0000000|0000000|0000000|0000000|0000000|0000000|0000000|0000000|0000000|0000000|0000000|0000000|0000000|0000000|0000000|0000000|0000000|0000000|0000000|0000000|0000000|0000000|0000000|0000000|0000000|0000000|0000000|0000000|0000000|0000000|0000000|0000000|0000000|0000000|0000000|0000000|0000000|0000000|0000000|0000000|0000000',\n",
       " 'endereco_logradouro': 'Av. dos Oitis',\n",
       " 'endereco_numero': '1460',\n",
       " 'endereco_complemento': '',\n",
       " 'endereco_cep': '69007002',\n",
       " 'endereco_bairro': 'Distrito Industrial Ii',\n",
       " 'endereco_codigoMunicipio': 1302603,\n",
       " 'endereco_nomeMunicipio': 'MANAUS',\n",
       " 'endereco_uf': 'AM',\n",
       " 'telefone1_ddd': '11',\n",
       " 'telefone1_numero': '56442800',\n",
       " 'telefone2_ddd': '11',\n",
       " 'telefone2_numero': '56442700',\n",
       " 'email': 'CLEIDE.NERI@SAMSUNG.COM',\n",
       " 'responsavel_cpf': '70294986235',\n",
       " 'capitalSocial': '00103840844446',\n",
       " 'porte_codigo': 5,\n",
       " 'porte_valor': 'Demais',\n",
       " 'opcaoSimples_opcaoSimples': False,\n",
       " 'sociedade_socio': [],\n",
       " 'dataRegistroAnatel': '2020-01-19',\n",
       " 'resultado': 'CNPJ encontrado',\n",
       " 'erro': ''}"
      ]
     },
     "execution_count": 12,
     "metadata": {},
     "output_type": "execute_result"
    }
   ],
   "source": [
    "req.query_ws('00280273000137')"
   ]
  },
  {
   "cell_type": "code",
   "execution_count": 13,
   "metadata": {},
   "outputs": [
    {
     "data": {
      "text/plain": [
       "{'cnpj': '02030715000112',\n",
       " 'matriz': True,\n",
       " 'nomeEmpresarial': 'Agencia Nacional de Telecomunicacoes',\n",
       " 'nomeFantasia': 'Anatel',\n",
       " 'situacaoCadastral_codigo': '02',\n",
       " 'situacaoCadastral_valor': 'Ativa',\n",
       " 'situacaoCadastral_dataAlteracao': '1998-07-28T00:00:00',\n",
       " 'naturezaJuridica_codigo': '1104',\n",
       " 'naturezaJuridica_descricao': 'AUTARQUIA FEDERAL',\n",
       " 'dataAbertura': '1997-08-12',\n",
       " 'cnaePrincipal': '8413200',\n",
       " 'endereco_logradouro': 'Quadra Saus Quadra 6 Blocos C,e,f e H',\n",
       " 'endereco_numero': '10',\n",
       " 'endereco_complemento': 'Andar: Bloco H;',\n",
       " 'endereco_cep': '70070940',\n",
       " 'endereco_bairro': 'Asa Sul',\n",
       " 'endereco_codigoMunicipio': 5300108,\n",
       " 'endereco_nomeMunicipio': 'Brasilia',\n",
       " 'endereco_uf': 'DF',\n",
       " 'telefone1_ddd': '61',\n",
       " 'telefone1_numero': '23122134',\n",
       " 'telefone2_ddd': '61',\n",
       " 'telefone2_numero': '23121953',\n",
       " 'email': 'catty@anatel.gov.br',\n",
       " 'responsavel_cpf': '00757367135',\n",
       " 'responsavel_nome': 'Carlos Manuel Baigorri',\n",
       " 'capitalSocial': '0',\n",
       " 'porte_codigo': 5,\n",
       " 'porte_valor': 'Demais',\n",
       " 'opcaoSimples_opcaoSimples': False,\n",
       " 'contador_numeroCrcContadorPj': '000000',\n",
       " 'contador_cnpjContador': '00000000000000',\n",
       " 'contador_numeroCrcContadorPf': '000000',\n",
       " 'contador_cpfContador': '08423865134',\n",
       " 'sociedade_socio': [],\n",
       " 'dataRegistroAnatel': '2022-08-01',\n",
       " 'resultado': 'CNPJ encontrado',\n",
       " 'erro': ''}"
      ]
     },
     "execution_count": 13,
     "metadata": {},
     "output_type": "execute_result"
    }
   ],
   "source": [
    "req.query_ws('02.030.715/0001-12')"
   ]
  },
  {
   "cell_type": "code",
   "execution_count": null,
   "metadata": {},
   "outputs": [
    {
     "name": "stdout",
     "output_type": "stream",
     "text": [
      "CPU times: total: 484 ms\n",
      "Wall time: 23.2 s\n"
     ]
    }
   ],
   "source": [
    "# %%time\n",
    "# cnpjs = req.batch_request(50 * ['02.030.715/0001-12', '00280273000137'])"
   ]
  },
  {
   "cell_type": "code",
   "execution_count": null,
   "metadata": {},
   "outputs": [],
   "source": [
    "# with ExceptionExpected(ex=AssertionError, regex= 'origem não pode ficar vazio e deve ser uma string de até 30 caracteres'):\n",
    "#     format_url(cpf_usuario=cpf_usuario, identificador=identificador)"
   ]
  },
  {
   "cell_type": "code",
   "execution_count": null,
   "metadata": {},
   "outputs": [],
   "source": [
    "# with ExceptionExpected(ex=AssertionError, regex= 'origem não pode ficar vazio e deve ser uma string de até 30 caracteres'):\n",
    "#     format_url(cpf_usuario=cpf_usuario, identificador=identificador, origem = 50)"
   ]
  },
  {
   "cell_type": "code",
   "execution_count": null,
   "metadata": {},
   "outputs": [],
   "source": [
    "# with ExceptionExpected(ex=AssertionError, regex=\"Ambiente inválido\"):\n",
    "#     format_url(cpf_usuario=cpf_usuario, identificador=identificador, origem='Teste', ambiente='ts')"
   ]
  },
  {
   "cell_type": "code",
   "execution_count": null,
   "metadata": {},
   "outputs": [],
   "source": [
    "# origem = 'Teste'\n",
    "# for ambiente in AMBIENTE:\n",
    "#     url = format_url(cpf_usuario=cpf_usuario, identificador=identificador, origem=origem, ambiente=ambiente)\n",
    "#     test_eq(url, f'http://webservicesintranet{ambiente}.anatel.gov.br/receita/rest/obterPessoaFisicaIgnoraCacheAntigo?cpf={identificador}&cpfUsuario={cpf_usuario}&mesesExpiraCache=36&origem={origem}')"
   ]
  },
  {
   "cell_type": "code",
   "execution_count": null,
   "metadata": {},
   "outputs": [],
   "source": [
    "# from itertools import product\n",
    "# origem = 'Teste'\n",
    "# expira_cache = 3\n",
    "# for (ambiente, tipo) in product(AMBIENTE, TYPE):\n",
    "#     url = format_url(cpf_usuario=cpf_usuario, \n",
    "#                      identificador=identificador, \n",
    "#                      origem=origem, \n",
    "#                      ambiente=ambiente, \n",
    "#                      tipo=tipo, \n",
    "#                      expira_cache=expira_cache)\n",
    "#     test_eq(url, f'http://webservicesintranet{ambiente}.anatel.gov.br/receita/rest/{TYPE[tipo]}IgnoraCacheAntigo?{tipo}={identificador}&cpfUsuario={cpf_usuario}&mesesExpiraCache={expira_cache}&origem={origem}')"
   ]
  },
  {
   "cell_type": "code",
   "execution_count": null,
   "metadata": {},
   "outputs": [],
   "source": [
    "# from itertools import product\n",
    "# origem = 'Teste'\n",
    "# expira_cache = None\n",
    "# for (ambiente, tipo) in product(AMBIENTE, TYPE):\n",
    "#     url = format_url(cpf_usuario=cpf_usuario, \n",
    "#                      identificador=identificador, \n",
    "#                      origem=origem, \n",
    "#                      ambiente=ambiente, \n",
    "#                      tipo=tipo,\n",
    "#                     expira_cache=expira_cache,\n",
    "#                     )\n",
    "#     test_eq(url, f'http://webservicesintranet{ambiente}.anatel.gov.br/receita/rest/{TYPE[tipo]}?{tipo}={identificador}&cpfUsuario={cpf_usuario}&origem={origem}')"
   ]
  },
  {
   "cell_type": "code",
   "execution_count": 18,
   "metadata": {},
   "outputs": [],
   "source": [
    "#| export\n",
    "def save_request(results: Iterable, # Lista com o retorno das requisições\n",
    "                 saida: str, # Nome do Arquivo de Saída\n",
    "):\n",
    "    \"\"\"Salva a lista de requisições `results` no arquivo `saida`\"\"\"\n",
    "    df = pd.DataFrame(results)\n",
    "    try:\n",
    "        saida = Path(saida)\n",
    "    except TypeError:\n",
    "        saida = Path.cwd()\n",
    "    match suffix := saida.suffix:\n",
    "        case '.csv' | '.txt':\n",
    "            df.to_csv(saida, index=False)\n",
    "        case '.xlsx':\n",
    "            df.to_excel(saida, index=False, engine='openpyxl')\n",
    "        case '.json':\n",
    "            df.to_json(saida)\n",
    "        case '.md':\n",
    "            df.to_markdown(saida, index=False)\n",
    "        case '.html':\n",
    "            df.to_html(saida, index=False)\n",
    "        case _:\n",
    "            df.to_clipboard(sep=',', index=False)\n",
    "\n",
    "@call_parse\n",
    "def request_from_file(filename: Param(\"Arquivo texto de entrada: 1 CPF | CNPJ por linha\", str),\n",
    "                      cpf_usuario: Param(\"CPF do usuário requisitante\", str),\n",
    "                      ambiente: Param(\"Ambiente onde realizar a requisição: ds | hm | su | pd\", str) = 'ds', \n",
    "                      origem: Param(\"Texto com identificação da requisição: e.g. 'Teste'\", str) = None, \n",
    "                      cache: Param(\"Tempo de expiração do cache em meses (Produção)\",  int) = 36, \n",
    "                      saida: Param(\"Arquivo de saída da requisição\", str) = None, \n",
    "):\n",
    "    \"\"\"Lê o arquivo `filename` com um CPF | CPNJ por linha. Faz a requisição no `ambiente` do receita-ws e salva os resultados em `saida`\"\"\"\n",
    "    contents = Path(filename).readlines()\n",
    "    req = Request(cpf_usuario, ambiente, origem, cache)\n",
    "    results = req.batch_request(contents)\n",
    "    save_request(results, saida)"
   ]
  },
  {
   "cell_type": "code",
   "execution_count": 19,
   "metadata": {},
   "outputs": [],
   "source": [
    "#| hide\n",
    "import nbdev; nbdev.nbdev_export()"
   ]
  },
  {
   "cell_type": "code",
   "execution_count": null,
   "metadata": {},
   "outputs": [],
   "source": []
  }
 ],
 "metadata": {
  "kernelspec": {
   "display_name": "Python 3.10.6 ('ws')",
   "language": "python",
   "name": "python3"
  },
  "language_info": {
   "codemirror_mode": {
    "name": "ipython",
    "version": 3
   },
   "file_extension": ".py",
   "mimetype": "text/x-python",
   "name": "python",
   "nbconvert_exporter": "python",
   "pygments_lexer": "ipython3",
   "version": "3.10.6"
  },
  "vscode": {
   "interpreter": {
    "hash": "5885d5269c059a247b7a692609facce1cde47f9412eb81f3343f4bedcb1040ab"
   }
  }
 },
 "nbformat": 4,
 "nbformat_minor": 4
}
