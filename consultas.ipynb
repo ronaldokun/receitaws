{
 "cells": [
  {
   "cell_type": "raw",
   "metadata": {},
   "source": [
    "---\n",
    "title: Consultas\n",
    "output-file: consultas.html\n",
    "description: Teste de Requisições GET na API do Receita-WS\n",
    "---"
   ]
  },
  {
   "cell_type": "code",
   "execution_count": null,
   "metadata": {},
   "outputs": [],
   "source": [
    "#|default_exp consultas"
   ]
  },
  {
   "cell_type": "code",
   "execution_count": null,
   "metadata": {},
   "outputs": [],
   "source": [
    "#|export\n",
    "import re\n",
    "from typing import Union, Iterable\n",
    "\n",
    "import requests\n",
    "import pandas as pd\n",
    "\n",
    "from fastcore.basics import store_attr\n",
    "from fastcore.foundation import L\n",
    "from fastcore.parallel import parallel\n",
    "from fastcore.xtras import Path\n",
    "import typer\n",
    "#from fastcore.script import call_parse, Param\n",
    "\n",
    "BASEURL = \"http://webservicesintranet{}.anatel.gov.br/receita/rest/\"\n",
    "AMBIENTE = {'ds', 'hm', 'su', 'pd'}\n",
    "TIPO = {'cpf': \"obterPessoaFisica\", 'cnpj': \"obterPessoaJuridica\"}\n",
    "CPF_SIMPLES = ('cpf', 'nome', 'nomeMae', 'dataNascimento', 'estrangeiro',\n",
    "               'tituloEleitor', 'dataAtualizacao', 'dataRegistroAnatel', \n",
    "               'resultado', 'unidadeAdministrativaCodigo', 'anoObito', 'erro')\n",
    "SEXO =  {1: 'Masculino', 2: 'Feminino', 9 : 'Não encontrado'}\n",
    "TAMANHO = {11: 'cpf', 14: 'cnpj'}"
   ]
  },
  {
   "cell_type": "markdown",
   "metadata": {},
   "source": [
    "## Validador de CPF | CPNJ "
   ]
  },
  {
   "cell_type": "code",
   "execution_count": null,
   "metadata": {},
   "outputs": [],
   "source": [
    "#|hide\n",
    "def valida_cpf(cpf: str):\n",
    "    \"\"\"Valida o cpf\"\"\"\n",
    "    assert len(cpf) == TAMANHO['cpf'], f\"CPF inválido, digite um CPF válido com {TAMANHO['cpf']} dígitos\"  \n",
    "\n",
    "def valida_cnpj(cnpj: str):\n",
    "    \"\"\"Valida o cnpj\"\"\"\n",
    "    assert len(cnpj) == TAMANHO['cnpj'], f\"CNPJ inválido, digite um CNPJ válido com {TAMANHO['cnpj']} dígitos\"\n"
   ]
  },
  {
   "cell_type": "markdown",
   "metadata": {},
   "source": [
    "## Classe Principal para Requisição"
   ]
  },
  {
   "cell_type": "code",
   "execution_count": null,
   "metadata": {},
   "outputs": [],
   "source": [
    "#|export \n",
    "class Requisicao:\n",
    "    def __init__(self, \n",
    "                 cpf_usuario: Union[str, int], # CPF do usuário requisitante\n",
    "                 ambiente: str = 'ds', # Ambiente onde realizar a requisição: ds: desenvolvimento, hm: homologação, su: sustentação, pd: produção\n",
    "                 origem: str = None, # Texto com identificação da requisição: e.g. \"Teste\"\n",
    "                 cache: int = 36, # Tempo de expiração do cache em meses (Produção)\n",
    "    ):\n",
    "        \"\"\"Classe para fazer requisições ao Web Service Receita - WS da Anatel, este encapsula o Infoconv da Receita Federal\"\"\"\n",
    "        store_attr()\n",
    "        assert isinstance(self.origem, str), \"origem não pode ficar vazio e deve ser uma string de até 30 caracteres\"\n",
    "        self.origem = self.origem[:30]\n",
    "        assert (ambiente := self.ambiente.lower()) in AMBIENTE, f\"Ambiente inválido, escolha uma das opções {AMBIENTE}\"\n",
    "        if ambiente == 'pd':\n",
    "            self.ambiente = ''\n",
    "        self.cpf_usuario = ''.join(re.findall(\"\\d\", self.cpf_usuario))\n",
    "\n",
    "    def formatar_url(self,\n",
    "                  identificador, # Identificador da requisição: CPF ou CNPJ de acordo com o tipo\n",
    "    )-> str: # Url formatada para a requisição GET REST\n",
    "        \"\"\"Recebe o identificador CPF|CNPJ e formata retorna a url formatada da requisição\"\"\"\n",
    "        identificador = ''.join(re.findall(\"\\d\", identificador))\n",
    "        if (tipo := len(identificador)) not in TAMANHO:\n",
    "            raise ValueError(\"Query inválida, CPF possui 11 caracteres e CNPJ possui 14 caracteres\")\n",
    "        tipo = TAMANHO[tipo] #TODO: Validar refinadamente o CPF / CNPJ\n",
    "        req_TIPO = TIPO[tipo]\n",
    "        suffix = ''\n",
    "        if self.cache is not None:\n",
    "            try:\n",
    "                cache = int(self.cache)\n",
    "                assert cache >= 0, \"Tempo de expiração do cache inválido, escolha um número inteiro maior que zero\"\n",
    "            except ValueError as e:\n",
    "                raise ValueError(\"Valor inválido de expira_cache, escolha um número inteiro maior que zero\") from e\n",
    "            req_TIPO += 'IgnoraCacheAntigo'\n",
    "            suffix = f'&mesesExpiraCache={cache}'\n",
    "\n",
    "        return f'{BASEURL.format(self.ambiente)}{req_TIPO}?{tipo}={identificador}&cpfUsuario={self.cpf_usuario}{suffix}&origem={self.origem}'\n",
    "\n",
    "    @staticmethod\n",
    "    def nivelar_json(json_dict: dict, # Dicionário no formato json retornado pela requisição\n",
    "    )-> dict: #Dicionário nivelado para formato tabular\n",
    "        \"\"\"Recebe um dicionário json com diferentes níveis e retorna os registros em um único nível\"\"\"\n",
    "        d = {}\n",
    "        for k,v in json_dict.items():\n",
    "            if isinstance(v, list): \n",
    "                v = '|'.join(v)\n",
    "            if isinstance(v, dict):\n",
    "                d.update({f'{k}.{sk}': sv for sk, sv in v.items()})\n",
    "                continue\n",
    "            d[k] = v\n",
    "        return {k:v.lstrip().rstrip() if isinstance(v, str) else v for k, v in d.items()}\n",
    "\n",
    "    @staticmethod\n",
    "    def _get_Requisicao(url: str, # Url formatada da requisição \n",
    "    )-> dict:\n",
    "        \"\"\"Efetua a requisição na url and retorna a resposta json\"\"\"\n",
    "        r = requests.get(url)\n",
    "        if r.status_code == 200 and r.headers['content-type'] == 'application/json':\n",
    "            return Requisicao.nivelar_json(r.json())\n",
    "        return {}\n",
    "\n",
    "    def consultar(self, \n",
    "                 identificador: Union[str, int], # Identificador da requisição: CPF ou CNPJ de acordo com o tipo\n",
    "    )-> dict: # Dicionário com o resultado da requisição\n",
    "        \"\"\"Efetua a requisição do identificador e retorna um dicionário\"\"\"\n",
    "        return Requisicao._get_Requisicao(self.formatar_url(identificador))\n",
    "    \n",
    "    def consultar_em_lote(self, \n",
    "                      queries: Iterable[Union[str, int]], # Lista com os identificadores: CPF ou CNPJ\n",
    "    )->Iterable[dict]: # Lisa com os dicionários resultantes das requisições                        \n",
    "        return L(queries).map(self.consultar)\n",
    "        "
   ]
  },
  {
   "cell_type": "markdown",
   "metadata": {},
   "source": [
    "## Exemplos\n",
    "\n",
    "### CPF"
   ]
  },
  {
   "cell_type": "code",
   "execution_count": null,
   "metadata": {},
   "outputs": [],
   "source": [
    "#|eval: false\n",
    "from fastcore.test import ExceptionExpected, test_eq"
   ]
  },
  {
   "cell_type": "code",
   "execution_count": null,
   "metadata": {},
   "outputs": [],
   "source": [
    "#|eval: false\n",
    "cpf_usuario = input('Digite o CPF do solicitante: ')\n",
    "identificador = input('Digite o CPF a ser consultado')\n",
    "origem = \"Teste REST API\"\n",
    "ambiente = 'ds'"
   ]
  },
  {
   "cell_type": "code",
   "execution_count": null,
   "metadata": {},
   "outputs": [],
   "source": [
    "#|eval: false\n",
    "req = Requisicao(cpf_usuario, ambiente, origem)"
   ]
  },
  {
   "cell_type": "code",
   "execution_count": null,
   "metadata": {},
   "outputs": [],
   "source": [
    "#|eval: false\n",
    "r = req.consultar(identificador)"
   ]
  },
  {
   "cell_type": "code",
   "execution_count": null,
   "metadata": {},
   "outputs": [
    {
     "data": {
      "text/plain": [
       "{'nome': 'Tow Dh Vrmadfgixfxaxqupjkfp',\n",
       " 'situacaoCadastral.codigo': 8,\n",
       " 'situacaoCadastral.valor': 'Nula',\n",
       " 'paisResidencia.residenteExterior': True,\n",
       " 'paisResidencia.codigoPais': 0,\n",
       " 'nomeMae': 'Bvgoxicrewhewdrt',\n",
       " 'dataNascimento': '1917-06-28',\n",
       " 'sexo.codigo': 2,\n",
       " 'sexo.valor': 'Feminino',\n",
       " 'ocupacao.naturezaOcupacaoCodigo': 5,\n",
       " 'ocupacao.ocupacaoPrincipalCodigo': 966,\n",
       " 'ocupacao.exercicioOcupacao': 2736,\n",
       " 'endereco.logradouro': 'Jgp Vjfrvmytkvnnqskehmrg',\n",
       " 'endereco.numero': '098',\n",
       " 'endereco.cep': '93700734',\n",
       " 'endereco.bairro': 'Pahcjbobur',\n",
       " 'endereco.codigoMunicipio': 3519600,\n",
       " 'endereco.nomeMunicipio': 'Hobkpc',\n",
       " 'endereco.uf': 'RO',\n",
       " 'telefone.ddd': '0025',\n",
       " 'telefone.numero': '97620714',\n",
       " 'unidadeAdministrativaCodigo': '7431014',\n",
       " 'anoObito': 0,\n",
       " 'estrangeiro': False,\n",
       " 'tituloEleitor': '0000000000000',\n",
       " 'dataAtualizacao': '1964-12-23',\n",
       " 'dataRegistroAnatel': '2022-08-16',\n",
       " 'resultado': 'CPF encontrado',\n",
       " 'erro': ''}"
      ]
     },
     "execution_count": null,
     "metadata": {},
     "output_type": "execute_result"
    }
   ],
   "source": [
    "#|eval: false\n",
    "del r['cpf'] # Não expõe o CPF no código\n",
    "r"
   ]
  },
  {
   "cell_type": "code",
   "execution_count": null,
   "metadata": {},
   "outputs": [],
   "source": [
    "#|eval: false\n",
    "cpfs = req.consultar_em_lote([cpf_usuario, identificador])"
   ]
  },
  {
   "cell_type": "code",
   "execution_count": null,
   "metadata": {},
   "outputs": [],
   "source": [
    "#|eval: false\n",
    "cpfs = cpfs.map(lambda x: {k:v for k,v in x.items() if k != 'cpf'}) # Não expõe os CPFs\n"
   ]
  },
  {
   "cell_type": "code",
   "execution_count": null,
   "metadata": {},
   "outputs": [
    {
     "data": {
      "text/plain": [
       "(#2) [{'nome': 'Tuwpoxtzyzzruazdjdsqmaewylowhy', 'situacaoCadastral.codigo': 2, 'situacaoCadastral.valor': 'Suspensa', 'paisResidencia.residenteExterior': True, 'paisResidencia.codigoPais': 0, 'nomeMae': 'Sjflu Ifgemqkhdjvpgcjewylowhy', 'dataNascimento': '1937-10-25', 'sexo.codigo': 1, 'sexo.valor': 'Masculino', 'ocupacao.naturezaOcupacaoCodigo': 36, 'ocupacao.ocupacaoPrincipalCodigo': 320, 'ocupacao.ocupacaoPrincipalDescricao': 'Técnico em biologia', 'ocupacao.exercicioOcupacao': 9236, 'endereco.logradouro': 'Viy Emmkgotopwc Yyoamytp', 'endereco.numero': '598', 'endereco.cep': '37377234', 'endereco.bairro': 'Qqukpfkgfti', 'endereco.codigoMunicipio': 2931350, 'endereco.nomeMunicipio': 'Lkgwrl', 'endereco.uf': 'SP', 'telefone.ddd': '0025', 'telefone.numero': '31297214', 'unidadeAdministrativaCodigo': '1008514', 'anoObito': 0, 'estrangeiro': False, 'tituloEleitor': '0000000000000', 'dataAtualizacao': '1962-02-17', 'dataRegistroAnatel': '2022-08-16', 'resultado': 'CPF encontrado', 'erro': ''},{'nome': 'Tow Dh Vrmadfgixfxaxqupjkfp', 'situacaoCadastral.codigo': 8, 'situacaoCadastral.valor': 'Nula', 'paisResidencia.residenteExterior': True, 'paisResidencia.codigoPais': 0, 'nomeMae': 'Bvgoxicrewhewdrt', 'dataNascimento': '1917-06-28', 'sexo.codigo': 2, 'sexo.valor': 'Feminino', 'ocupacao.naturezaOcupacaoCodigo': 5, 'ocupacao.ocupacaoPrincipalCodigo': 966, 'ocupacao.exercicioOcupacao': 2736, 'endereco.logradouro': 'Jgp Vjfrvmytkvnnqskehmrg', 'endereco.numero': '098', 'endereco.cep': '93700734', 'endereco.bairro': 'Pahcjbobur', 'endereco.codigoMunicipio': 3519600, 'endereco.nomeMunicipio': 'Hobkpc', 'endereco.uf': 'RO', 'telefone.ddd': '0025', 'telefone.numero': '97620714', 'unidadeAdministrativaCodigo': '7431014', 'anoObito': 0, 'estrangeiro': False, 'tituloEleitor': '0000000000000', 'dataAtualizacao': '1964-12-23', 'dataRegistroAnatel': '2022-08-16', 'resultado': 'CPF encontrado', 'erro': ''}]"
      ]
     },
     "execution_count": null,
     "metadata": {},
     "output_type": "execute_result"
    }
   ],
   "source": [
    "#|eval: false\n",
    "cpfs"
   ]
  },
  {
   "cell_type": "code",
   "execution_count": null,
   "metadata": {},
   "outputs": [
    {
     "data": {
      "text/html": [
       "<div>\n",
       "<style scoped>\n",
       "    .dataframe tbody tr th:only-of-type {\n",
       "        vertical-align: middle;\n",
       "    }\n",
       "\n",
       "    .dataframe tbody tr th {\n",
       "        vertical-align: top;\n",
       "    }\n",
       "\n",
       "    .dataframe thead th {\n",
       "        text-align: right;\n",
       "    }\n",
       "</style>\n",
       "<table border=\"1\" class=\"dataframe\">\n",
       "  <thead>\n",
       "    <tr style=\"text-align: right;\">\n",
       "      <th></th>\n",
       "      <th>nome</th>\n",
       "      <th>situacaoCadastral.codigo</th>\n",
       "      <th>situacaoCadastral.valor</th>\n",
       "      <th>paisResidencia.residenteExterior</th>\n",
       "      <th>paisResidencia.codigoPais</th>\n",
       "      <th>nomeMae</th>\n",
       "      <th>dataNascimento</th>\n",
       "      <th>sexo.codigo</th>\n",
       "      <th>sexo.valor</th>\n",
       "      <th>ocupacao.naturezaOcupacaoCodigo</th>\n",
       "      <th>...</th>\n",
       "      <th>telefone.ddd</th>\n",
       "      <th>telefone.numero</th>\n",
       "      <th>unidadeAdministrativaCodigo</th>\n",
       "      <th>anoObito</th>\n",
       "      <th>estrangeiro</th>\n",
       "      <th>tituloEleitor</th>\n",
       "      <th>dataAtualizacao</th>\n",
       "      <th>dataRegistroAnatel</th>\n",
       "      <th>resultado</th>\n",
       "      <th>erro</th>\n",
       "    </tr>\n",
       "  </thead>\n",
       "  <tbody>\n",
       "    <tr>\n",
       "      <th>0</th>\n",
       "      <td>Tuwpoxtzyzzruazdjdsqmaewylowhy</td>\n",
       "      <td>2</td>\n",
       "      <td>Suspensa</td>\n",
       "      <td>True</td>\n",
       "      <td>0</td>\n",
       "      <td>Sjflu Ifgemqkhdjvpgcjewylowhy</td>\n",
       "      <td>1937-10-25</td>\n",
       "      <td>1</td>\n",
       "      <td>Masculino</td>\n",
       "      <td>36</td>\n",
       "      <td>...</td>\n",
       "      <td>0025</td>\n",
       "      <td>31297214</td>\n",
       "      <td>1008514</td>\n",
       "      <td>0</td>\n",
       "      <td>False</td>\n",
       "      <td>0000000000000</td>\n",
       "      <td>1962-02-17</td>\n",
       "      <td>2022-08-16</td>\n",
       "      <td>CPF encontrado</td>\n",
       "      <td></td>\n",
       "    </tr>\n",
       "    <tr>\n",
       "      <th>1</th>\n",
       "      <td>Tow Dh Vrmadfgixfxaxqupjkfp</td>\n",
       "      <td>8</td>\n",
       "      <td>Nula</td>\n",
       "      <td>True</td>\n",
       "      <td>0</td>\n",
       "      <td>Bvgoxicrewhewdrt</td>\n",
       "      <td>1917-06-28</td>\n",
       "      <td>2</td>\n",
       "      <td>Feminino</td>\n",
       "      <td>5</td>\n",
       "      <td>...</td>\n",
       "      <td>0025</td>\n",
       "      <td>97620714</td>\n",
       "      <td>7431014</td>\n",
       "      <td>0</td>\n",
       "      <td>False</td>\n",
       "      <td>0000000000000</td>\n",
       "      <td>1964-12-23</td>\n",
       "      <td>2022-08-16</td>\n",
       "      <td>CPF encontrado</td>\n",
       "      <td></td>\n",
       "    </tr>\n",
       "  </tbody>\n",
       "</table>\n",
       "<p>2 rows × 30 columns</p>\n",
       "</div>"
      ],
      "text/plain": [
       "                             nome  situacaoCadastral.codigo  \\\n",
       "0  Tuwpoxtzyzzruazdjdsqmaewylowhy                         2   \n",
       "1     Tow Dh Vrmadfgixfxaxqupjkfp                         8   \n",
       "\n",
       "  situacaoCadastral.valor  paisResidencia.residenteExterior  \\\n",
       "0                Suspensa                              True   \n",
       "1                    Nula                              True   \n",
       "\n",
       "   paisResidencia.codigoPais                        nomeMae dataNascimento  \\\n",
       "0                          0  Sjflu Ifgemqkhdjvpgcjewylowhy     1937-10-25   \n",
       "1                          0               Bvgoxicrewhewdrt     1917-06-28   \n",
       "\n",
       "   sexo.codigo sexo.valor  ocupacao.naturezaOcupacaoCodigo  ...  telefone.ddd  \\\n",
       "0            1  Masculino                               36  ...          0025   \n",
       "1            2   Feminino                                5  ...          0025   \n",
       "\n",
       "  telefone.numero  unidadeAdministrativaCodigo anoObito estrangeiro  \\\n",
       "0        31297214                      1008514        0       False   \n",
       "1        97620714                      7431014        0       False   \n",
       "\n",
       "   tituloEleitor dataAtualizacao  dataRegistroAnatel       resultado erro  \n",
       "0  0000000000000      1962-02-17          2022-08-16  CPF encontrado       \n",
       "1  0000000000000      1964-12-23          2022-08-16  CPF encontrado       \n",
       "\n",
       "[2 rows x 30 columns]"
      ]
     },
     "execution_count": null,
     "metadata": {},
     "output_type": "execute_result"
    }
   ],
   "source": [
    "#|eval: false\n",
    "pd.DataFrame(cpfs)"
   ]
  },
  {
   "cell_type": "markdown",
   "metadata": {},
   "source": [
    "### CNPJ\n"
   ]
  },
  {
   "cell_type": "markdown",
   "metadata": {},
   "source": [
    "CNPJ somente números"
   ]
  },
  {
   "cell_type": "code",
   "execution_count": null,
   "metadata": {},
   "outputs": [
    {
     "data": {
      "text/plain": [
       "{'cnpj': '00280273000137',\n",
       " 'matriz': True,\n",
       " 'nomeEmpresarial': 'Samsung Eletronica da Amazonia Ltda',\n",
       " 'nomeFantasia': 'Samsung da Amazonia',\n",
       " 'situacaoCadastral.codigo': '02',\n",
       " 'situacaoCadastral.valor': 'Ativa',\n",
       " 'situacaoCadastral.dataAlteracao': '2005-11-03T00:00:00',\n",
       " 'naturezaJuridica.codigo': '2062',\n",
       " 'naturezaJuridica.descricao': 'SOCIEDADE EMPRESARIA LIMITADA',\n",
       " 'dataAbertura': '1994-10-31',\n",
       " 'cnaePrincipal': '2640000',\n",
       " 'cnaeSecundario': '1922599|2621300|2622100|2632900|2670102|3313999|4618402|4618499|4645101|4649401|4649402|4649499|4651601|4651602|4652400|5211799|6202300|6203100|7490199|7739002|7739099|8211300|9511800|9512600|9521500|9529199|0000000|0000000|0000000|0000000|0000000|0000000|0000000|0000000|0000000|0000000|0000000|0000000|0000000|0000000|0000000|0000000|0000000|0000000|0000000|0000000|0000000|0000000|0000000|0000000|0000000|0000000|0000000|0000000|0000000|0000000|0000000|0000000|0000000|0000000|0000000|0000000|0000000|0000000|0000000|0000000|0000000|0000000|0000000|0000000|0000000|0000000|0000000|0000000|0000000|0000000|0000000|0000000|0000000|0000000|0000000|0000000|0000000|0000000|0000000|0000000|0000000|0000000|0000000|0000000|0000000|0000000|0000000|0000000|0000000|0000000|0000000|0000000|0000000',\n",
       " 'endereco.logradouro': 'Av. dos Oitis',\n",
       " 'endereco.numero': '1460',\n",
       " 'endereco.complemento': '',\n",
       " 'endereco.cep': '69007002',\n",
       " 'endereco.bairro': 'Distrito Industrial Ii',\n",
       " 'endereco.codigoMunicipio': 1302603,\n",
       " 'endereco.nomeMunicipio': 'MANAUS',\n",
       " 'endereco.uf': 'AM',\n",
       " 'telefone1.ddd': '11',\n",
       " 'telefone1.numero': '56442800',\n",
       " 'telefone2.ddd': '11',\n",
       " 'telefone2.numero': '56442700',\n",
       " 'email': 'CLEIDE.NERI@SAMSUNG.COM',\n",
       " 'responsavel.cpf': '70294986235',\n",
       " 'capitalSocial': '00103840844446',\n",
       " 'porte.codigo': 5,\n",
       " 'porte.valor': 'Demais',\n",
       " 'opcaoSimples.opcaoSimples': False,\n",
       " 'sociedade.socio': [],\n",
       " 'dataRegistroAnatel': '2020-01-19',\n",
       " 'resultado': 'CNPJ encontrado',\n",
       " 'erro': ''}"
      ]
     },
     "execution_count": null,
     "metadata": {},
     "output_type": "execute_result"
    }
   ],
   "source": [
    "#|eval: false\n",
    "req.consultar('00280273000137')"
   ]
  },
  {
   "cell_type": "markdown",
   "metadata": {},
   "source": [
    "CNPJ com separadores"
   ]
  },
  {
   "cell_type": "code",
   "execution_count": null,
   "metadata": {},
   "outputs": [
    {
     "data": {
      "text/plain": [
       "{'cnpj': '02030715000112',\n",
       " 'matriz': True,\n",
       " 'nomeEmpresarial': 'H Qyccquxlammrnsnssjydjvwdhlqqhjeaee',\n",
       " 'nomeFantasia': 'Fwcfey',\n",
       " 'situacaoCadastral.codigo': '03',\n",
       " 'situacaoCadastral.valor': 'Suspensa',\n",
       " 'situacaoCadastral.dataAlteracao': '1938-07-30T00:00:00',\n",
       " 'naturezaJuridica.codigo': '3525',\n",
       " 'dataAbertura': '1906-03-01',\n",
       " 'cnaePrincipal': '9755621',\n",
       " 'endereco.logradouro': 'Vccqrn H Dctuseqytj8jgkmthhqu[m)oxrvu',\n",
       " 'endereco.numero': '31',\n",
       " 'endereco.complemento': \"Luug'mettlqhh'\",\n",
       " 'endereco.cep': '81312361',\n",
       " 'endereco.bairro': 'Ixjxeuy',\n",
       " 'endereco.codigoMunicipio': 4301073,\n",
       " 'endereco.nomeMunicipio': 'Ezfakyin',\n",
       " 'endereco.uf': 'ES',\n",
       " 'telefone1.ddd': '82',\n",
       " 'telefone1.numero': '34464555',\n",
       " 'telefone2.ddd': '82',\n",
       " 'telefone2.numero': '34463374',\n",
       " 'email': \"rohyx'rgqowo<lxx,bd\",\n",
       " 'responsavel.cpf': '50368609502',\n",
       " 'responsavel.nome': 'Phj Bg Lzdnugmeinpqdrv',\n",
       " 'capitalSocial': '1',\n",
       " 'porte.codigo': 3,\n",
       " 'porte.valor': 'Empresa de pequeno porte',\n",
       " 'opcaoSimples.opcaoSimples': False,\n",
       " 'contador.classificacaoCrcContadorPj': {'codigo': 1, 'valor': 'Profissional'},\n",
       " 'contador.numeroCrcContadorPj': '342421',\n",
       " 'contador.cnpjContador': '48250611342422',\n",
       " 'contador.classficacaoCrcContadorPf': {'codigo': 1, 'valor': 'Profissional'},\n",
       " 'contador.numeroCrcContadorPf': '232131',\n",
       " 'contador.cpfContador': '13122131242',\n",
       " 'sociedade.socio': [],\n",
       " 'dataRegistroAnatel': '2022-09-14',\n",
       " 'resultado': 'CNPJ encontrado',\n",
       " 'erro': ''}"
      ]
     },
     "execution_count": null,
     "metadata": {},
     "output_type": "execute_result"
    }
   ],
   "source": [
    "#|eval: false\n",
    "req.consultar('02.030.715/0001-12')"
   ]
  },
  {
   "cell_type": "markdown",
   "metadata": {},
   "source": [
    "### API para consulta em lote"
   ]
  },
  {
   "cell_type": "code",
   "execution_count": null,
   "metadata": {},
   "outputs": [],
   "source": [
    "#|export\n",
    "def salvar_requisicao(results: Iterable, # Lista com o retorno das requisições\n",
    "                 saida: str, # Nome do Arquivo de Saída\n",
    ")->None:\n",
    "    \"\"\"Salva a lista de requisições `results` no arquivo `saida`\"\"\"\n",
    "    df = pd.DataFrame(results)\n",
    "    try:\n",
    "        saida = Path(saida)\n",
    "    except TypeError:\n",
    "        saida = Path.cwd() / 'resultados.csv'\n",
    "\n",
    "    match suffix := saida.suffix:\n",
    "        case '.csv' | '.txt':\n",
    "            df.to_csv(saida, index=False)\n",
    "        case '.xlsx':\n",
    "            df.to_excel(saida, index=False, engine='openpyxl')\n",
    "        case '.json':\n",
    "            df.to_json(saida)\n",
    "        case '.md':\n",
    "            df.to_markdown(saida, index=False)\n",
    "        case '.html':\n",
    "            df.to_html(saida, index=False)\n",
    "        case _:\n",
    "            df.to_csv(saida, index=False)\n",
    "\n",
    "def requisitar_em_lote(filename: str, # Arquivo texto de entrada: 1 CPF | CNPJ por linha\n",
    "                        cpf_usuario: str, # CPF do usuário requisitante\n",
    "                        ambiente: str = 'ds', # Ambiente onde realizar a requisição: ds | hm | su | pd \n",
    "                        origem: str = None, # Texto com identificação da requisição: e.g. 'Teste'\n",
    "                        cache: int = 36, # Tempo de expiração do cache em meses \n",
    "                        saida: str = None, # Arquivo de saída da requisição\n",
    ")->None:\n",
    "    \"\"\"Lê o arquivo `filename` com um CPF | CPNJ por linha. Faz a requisição no `ambiente` do receita-ws e salva os resultados em `saida`\"\"\"\n",
    "    conteudo = Path(filename).readlines()\n",
    "    req = Requisicao(cpf_usuario, ambiente, origem, cache)\n",
    "    resultado = req.consultar_em_lote(conteudo)\n",
    "    salvar_requisicao(resultado, saida)"
   ]
  },
  {
   "cell_type": "markdown",
   "metadata": {},
   "source": [
    "## Testes Unitários"
   ]
  },
  {
   "cell_type": "markdown",
   "metadata": {},
   "source": [
    "Sem string de identificação origem"
   ]
  },
  {
   "cell_type": "code",
   "execution_count": null,
   "metadata": {},
   "outputs": [],
   "source": [
    "#|eval: false\n",
    "with ExceptionExpected(ex=AssertionError, regex= 'origem não pode ficar vazio e deve ser uma string de até 30 caracteres'):\n",
    "    Requisicao(cpf_usuario=cpf_usuario)"
   ]
  },
  {
   "cell_type": "markdown",
   "metadata": {},
   "source": [
    "origem não é uma string"
   ]
  },
  {
   "cell_type": "code",
   "execution_count": null,
   "metadata": {},
   "outputs": [],
   "source": [
    "#|eval: false\n",
    "with ExceptionExpected(ex=AssertionError, regex= 'origem não pode ficar vazio e deve ser uma string de até 30 caracteres'):\n",
    "    Requisicao(cpf_usuario=cpf_usuario, origem = 50)"
   ]
  },
  {
   "cell_type": "markdown",
   "metadata": {},
   "source": [
    "ambiente inválido"
   ]
  },
  {
   "cell_type": "code",
   "execution_count": null,
   "metadata": {},
   "outputs": [],
   "source": [
    "#|eval: false\n",
    "with ExceptionExpected(ex=AssertionError, regex=\"Ambiente inválido\"):\n",
    "    Requisicao(cpf_usuario=cpf_usuario, origem='Teste', ambiente='ts')"
   ]
  },
  {
   "cell_type": "markdown",
   "metadata": {},
   "source": [
    "Teste de formatação da url corretamente de acordo com o ambiente"
   ]
  },
  {
   "cell_type": "code",
   "execution_count": null,
   "metadata": {},
   "outputs": [],
   "source": [
    "#|eval: false\n",
    "origem = 'Teste'\n",
    "for ambiente in AMBIENTE:\n",
    "    req = Requisicao(cpf_usuario=cpf_usuario, origem=origem, ambiente=ambiente)\n",
    "    url = req.formatar_url(identificador)\n",
    "    if ambiente == 'pd': \n",
    "        ambiente = ''\n",
    "    test_eq(url, f'http://webservicesintranet{ambiente}.anatel.gov.br/receita/rest/obterPessoaFisicaIgnoraCacheAntigo?cpf={identificador}&cpfUsuario={cpf_usuario}&mesesExpiraCache=36&origem={origem}')"
   ]
  },
  {
   "cell_type": "markdown",
   "metadata": {},
   "source": [
    "Teste de ambientes x tipos de requisição"
   ]
  },
  {
   "cell_type": "code",
   "execution_count": null,
   "metadata": {},
   "outputs": [],
   "source": [
    "#|eval: false\n",
    "from itertools import product\n",
    "origem = 'Teste'\n",
    "cache = 3\n",
    "for (ambiente, tipo) in product(AMBIENTE, TIPO):\n",
    "    req = Requisicao(cpf_usuario=cpf_usuario,\n",
    "                  ambiente=ambiente, \n",
    "                  origem=origem, \n",
    "                  cache=cache)\n",
    "    id_ = identificador if tipo == 'cpf' else '02030715000112'\n",
    "    url = req.formatar_url(id_)\n",
    "    if ambiente == 'pd': \n",
    "        ambiente = ''\n",
    "    test_eq(url, f'http://webservicesintranet{ambiente}.anatel.gov.br/receita/rest/{TIPO[tipo]}IgnoraCacheAntigo?{tipo}={id_}&cpfUsuario={cpf_usuario}&mesesExpiraCache={cache}&origem={origem}')"
   ]
  },
  {
   "cell_type": "code",
   "execution_count": null,
   "metadata": {},
   "outputs": [],
   "source": [
    "#|eval: false\n",
    "origem = 'Teste'\n",
    "cache = None\n",
    "for (ambiente, tipo) in product(AMBIENTE, TIPO):\n",
    "    req = Requisicao(cpf_usuario=cpf_usuario,\n",
    "                  ambiente=ambiente, \n",
    "                  origem=origem, \n",
    "                  cache=cache)\n",
    "    id_ = identificador if tipo == 'cpf' else '02030715000112'\n",
    "    url = req.formatar_url(id_)\n",
    "    if ambiente == 'pd': \n",
    "        ambiente = ''\n",
    "    test_eq(url, f'http://webservicesintranet{ambiente}.anatel.gov.br/receita/rest/{TIPO[tipo]}?{tipo}={id_}&cpfUsuario={cpf_usuario}&origem={origem}')"
   ]
  },
  {
   "cell_type": "code",
   "execution_count": null,
   "metadata": {},
   "outputs": [],
   "source": [
    "#|hide\n",
    "import nbdev; nbdev.nbdev_export()"
   ]
  }
 ],
 "metadata": {
  "kernelspec": {
   "display_name": "Python 3.10.6 ('ws')",
   "language": "python",
   "name": "python3"
  }
 },
 "nbformat": 4,
 "nbformat_minor": 4
}
